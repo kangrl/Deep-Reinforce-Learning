{
 "cells": [
  {
   "cell_type": "markdown",
   "metadata": {},
   "source": [
    "# 01 Preliminary Knowledge"
   ]
  },
  {
   "cell_type": "markdown",
   "metadata": {},
   "source": [
    "## 1.8 Conjugate Gradient Method"
   ]
  },
  {
   "cell_type": "markdown",
   "metadata": {},
   "source": [
    "### Conjugate Gradient Method\n",
    "**共轭梯度法（Conjugate Gradient Method）** 是一种用于求解线性方程组$Ax=b$的迭代算法，其中$A$是一个对称正定矩阵。这种方法特别适用于大规模稀疏矩阵问题，常见于数值分析和科学计算领域。共轭梯度法由Magnus Hestenes和Eduard Stiefel于1952年提出。\n",
    "\n",
    "#### 基本思想\n",
    "共轭梯度法利用了共轭方向的概念，即在每次迭代中，搜索方向不仅与之前的搜索方向共轭（即$A$-正交），而且还是当前残差向量（即\n",
    "$b−Ax$）的方向。这样可以在迭代过程中逐步逼近解，同时避免像最速下降法那样的锯齿形路径。\n",
    "\n",
    "#### 算法步骤\n",
    "1. **初始化**：选择一个初始点 $x_0$ 和初始搜索方向 $p_0 = r_0 = b - Ax_0$，其中 $A$ 是系数矩阵，$p$ 是常数向量;\n",
    "2. **迭代更新**：对于第 $k$ 次迭代：\n",
    "   - 计算步长 $\\alpha_k = \\frac{r_k^T r_k}{p_k^T A p_k}$;\n",
    "   - 更新当前点 $x_{k+1} = x_k + \\alpha_k p_k$;\n",
    "   - 计算新的残差 $r_{k+1} = r_k - \\alpha_k A p_k$;\n",
    "   - 当残差 $r_{k+1}$ 足够小（通常通过某种误差准则判断）时，停止迭代;\n",
    "   - 计算参数$\\beta_k = \\frac{r_{k+1}^T r_{k+1}}{r_k^T r_k}$；\n",
    "   - 更新搜索方向 $p_{k+1} = r_{k+1} + \\beta_k p_k$；\n",
    "3. **终止条件**：当残差 $r_{k+1}$ 足够小（通常通过某种误差准则判断）时，停止迭代。"
   ]
  },
  {
   "cell_type": "markdown",
   "metadata": {},
   "source": [
    "### Example\n",
    "\n",
    "我们以一个简单的二次函数为例来演示共轭梯度法的使用。假设我们要最小化以下二次函数：\n",
    "$$f(x) = \\frac{1}{2} x^T A x - b^T x$$\n",
    "其中，$A = \\begin{pmatrix} 4 & 2 \\\\ 2 & 3 \\end{pmatrix}$，$b = (1, 1)^T$。\n",
    "我们使用Python实现共轭梯度法来求解这个二次函数的最小值。"
   ]
  },
  {
   "cell_type": "code",
   "execution_count": 1,
   "metadata": {},
   "outputs": [],
   "source": [
    "import numpy as np"
   ]
  },
  {
   "cell_type": "code",
   "execution_count": 2,
   "metadata": {},
   "outputs": [],
   "source": [
    "def function(A, b, x):\n",
    "    \"\"\"_summary_\n",
    "\n",
    "    Args:\n",
    "        A (_type_): _description_\n",
    "        b (_type_): _description_\n",
    "        x (_type_): _description_\n",
    "    \"\"\"\n",
    "\n",
    "    return 1 / 2 * x.T @ A @ x - b.T @ x\n",
    "\n",
    "def conjugate_gradient(A, b, x0, tol=1e-6, max_iter=1000):\n",
    "    \"\"\"\n",
    "    Conjugate Gradient Method to minimize f(x) = 0.5 * x^T A x - b^T x\n",
    "    where A is a symmetric positive definite matrix.\n",
    "\n",
    "    Parameters:\n",
    "    A : 2D numpy array\n",
    "        Symmetric positive definite matrix.\n",
    "    b : 1D numpy array\n",
    "        Vector.\n",
    "    x0 : 1D numpy array\n",
    "        Initial guess.\n",
    "    tol : float\n",
    "        Tolerance for convergence.\n",
    "    max_iter : int\n",
    "        Maximum number of iterations.\n",
    "\n",
    "    Returns:\n",
    "    x : 1D numpy array\n",
    "        The solution.\n",
    "    \"\"\"\n",
    "    x = x0\n",
    "    r = b - A @ x\n",
    "    p = r\n",
    "    rsold = r.T @ r\n",
    "\n",
    "    for i in range(max_iter):\n",
    "        Ap = A @ p\n",
    "        alpha = rsold / (p.T @ Ap)\n",
    "        x = x + alpha * p\n",
    "        r = r - alpha * Ap\n",
    "        rsnew = r.T @ r\n",
    "        if np.sqrt(rsnew) < tol:\n",
    "            break\n",
    "        p = r + (rsnew / rsold) * p\n",
    "        rsold = rsnew\n",
    "\n",
    "    return x, function(A, b, x), i"
   ]
  },
  {
   "cell_type": "code",
   "execution_count": 3,
   "metadata": {},
   "outputs": [
    {
     "name": "stdout",
     "output_type": "stream",
     "text": [
      "Minimum point: [0.125 0.25 ]\n",
      "Function value at minimum point: -0.1875\n",
      "Number of iterations: 1\n"
     ]
    }
   ],
   "source": [
    "# Define the matrix A and vector b\n",
    "A = np.array([[4, 2], [2, 3]])\n",
    "b = np.array([1, 1])\n",
    "\n",
    "# Initial guess\n",
    "x0 = np.zeros_like(b)\n",
    "\n",
    "# Run the conjugate gradient method\n",
    "solution = conjugate_gradient(A, b, x0)\n",
    "print(\"Minimum point:\", solution[0])\n",
    "print(\"Function value at minimum point:\", solution[1])\n",
    "print(\"Number of iterations:\", solution[2])"
   ]
  }
 ],
 "metadata": {
  "kernelspec": {
   "display_name": "rl",
   "language": "python",
   "name": "python3"
  },
  "language_info": {
   "codemirror_mode": {
    "name": "ipython",
    "version": 3
   },
   "file_extension": ".py",
   "mimetype": "text/x-python",
   "name": "python",
   "nbconvert_exporter": "python",
   "pygments_lexer": "ipython3",
   "version": "3.11.11"
  }
 },
 "nbformat": 4,
 "nbformat_minor": 2
}
