{
 "cells": [
  {
   "cell_type": "markdown",
   "metadata": {},
   "source": [
    "# 01 Prelieliminary Knowledge"
   ]
  },
  {
   "cell_type": "markdown",
   "metadata": {},
   "source": [
    "## 1.10 Osborne-Urbino Process"
   ]
  },
  {
   "cell_type": "markdown",
   "metadata": {},
   "source": [
    "### Osborne-Urbino Process\n",
    "Osborne-Urbino Process 是一种用于解决矩阵平衡问题（Matrix Balancing Problem）的迭代算法。矩阵平衡问题在许多领域中都有应用，例如经济学、统计学、机器学习（如概率图模型）和网络流分析等。该问题的目标是通过调整矩阵的行和列权重，使得矩阵在某种意义下达到平衡状态。"
   ]
  },
  {
   "cell_type": "markdown",
   "metadata": {},
   "source": [
    "#### 矩阵平衡问题\n",
    "给定一个非负矩阵$A \\in \\mathbb{R}^{n \\times n}$，矩阵平衡的目标是找到两个对角矩阵$D_1$和$D_2$，使得$B = D_1 A D_2$在某种意义下是平衡的。常见的平衡标准包括：\n",
    "- 矩阵$B$每行的和等于1（行平衡）；\n",
    "- 矩阵$B$每列的和等于1（列平衡）；\n",
    "- 矩阵$B$每行和每列的和都等于1（双随机平衡——Doubly Stochastic Balancing）。"
   ]
  },
  {
   "cell_type": "markdown",
   "metadata": {},
   "source": [
    "#### Osborne-Urbino算法\n",
    "Osborne-Urbino 算法是一种迭代算法，通过交替调整行和列的权重来逐步使矩阵达到平衡状态。其核心思想是通过迭代更新对角矩阵$D_1$和$D_2$，使得矩阵$B$逐渐满足行和列的平衡条件。\n",
    "\n",
    "1. 初始化：\n",
    "   - 设$D_1$和$D_2$为单位矩阵；\n",
    "   - 计算出事矩阵$B = D_1 A D_2$；\n",
    "2. 迭代更新：\n",
    "   - 行平衡：调整$D_1^{k+1} = diag (\\frac {1}{\\sum_j B_{ij}}) D_1^k$，使得每行的和为1;\n",
    "   - 列平衡：调整$D_2^{k+1} = diag (\\frac {1}{\\sum_i B_{ij}}) D_2^k$，使得每行的和为1;\n",
    "   - 更新矩阵：$B=D_1^{k+1} A D_2^{k+1}$\n",
    "3. 终止条件：\n",
    "   - 当矩阵$B$的行和列的和接近 1（满足一定的收敛条件）时，算法终止."
   ]
  },
  {
   "cell_type": "markdown",
   "metadata": {},
   "source": [
    "#### 优点\n",
    "- 算法逻辑清晰，简单易实现\n",
    "- 在大多数情况下，算法能够收敛到平衡矩阵\n",
    "\n",
    "#### 缺点\n",
    "- 收敛速度较慢，特别是在矩阵规模较大时\n",
    "- 对出事条件敏感，对于某些特殊矩阵，算法可能无法收敛到平衡矩阵"
   ]
  },
  {
   "cell_type": "code",
   "execution_count": 1,
   "metadata": {},
   "outputs": [],
   "source": [
    "#### Example"
   ]
  },
  {
   "cell_type": "code",
   "execution_count": 2,
   "metadata": {},
   "outputs": [],
   "source": [
    "import numpy as np"
   ]
  },
  {
   "cell_type": "code",
   "execution_count": 3,
   "metadata": {},
   "outputs": [],
   "source": [
    "def osborne_urbino(matrix, max_iter=1000, tol=1e-6):\n",
    "    \"\"\"\n",
    "    Osborne-Urbino matrix balancing algorithm.\n",
    "\n",
    "    Parameters:\n",
    "    matrix (np.ndarray): The input square matrix to be balanced.\n",
    "    max_iter (int): Maximum number of iterations.\n",
    "    tol (float): Tolerance for convergence.\n",
    "\n",
    "    Returns:\n",
    "    tuple: A tuple containing the balanced matrix, row scaling matrix, and column scaling matrix.\n",
    "    \"\"\"\n",
    "    n = matrix.shape[0]\n",
    "    if matrix.shape[1] != n:\n",
    "        raise ValueError(\"Input matrix must be square.\")\n",
    "\n",
    "    row_scaling = np.eye(n)  # Initialize row scaling matrix\n",
    "    col_scaling = np.eye(n)  # Initialize column scaling matrix\n",
    "\n",
    "    for iteration in range(max_iter):\n",
    "        balanced_matrix = row_scaling @ matrix @ col_scaling  # Compute the current balanced matrix\n",
    "\n",
    "        # Check convergence conditions\n",
    "        row_sums = balanced_matrix.sum(axis=1)\n",
    "        col_sums = balanced_matrix.sum(axis=0)\n",
    "        if np.allclose(row_sums, 1, atol=tol) and np.allclose(col_sums, 1, atol=tol):\n",
    "            print(f\"Converged in {iteration} iterations.\")\n",
    "            return balanced_matrix, row_scaling, col_scaling\n",
    "\n",
    "        # Update row scaling matrix\n",
    "        row_scaling = np.diag(1 / row_sums) @ row_scaling\n",
    "\n",
    "        # Update column scaling matrix\n",
    "        col_scaling = col_scaling @ np.diag(1 / col_sums)\n",
    "\n",
    "    print(\"Reached maximum iterations without convergence.\")\n",
    "    return balanced_matrix, row_scaling, col_scaling"
   ]
  },
  {
   "cell_type": "code",
   "execution_count": 6,
   "metadata": {},
   "outputs": [
    {
     "name": "stdout",
     "output_type": "stream",
     "text": [
      "Reached maximum iterations without convergence.\n",
      "Balanced matrix B:\n",
      "[[0.22222222 0.11111111]\n",
      " [0.11111111 0.22222222]]\n",
      "Row scaling matrix D1:\n",
      "[[1. 0.]\n",
      " [0. 1.]]\n",
      "Column scaling matrix D2:\n",
      "[[1. 0.]\n",
      " [0. 1.]]\n"
     ]
    }
   ],
   "source": [
    "# Example\n",
    "A = np.array([[2, 1], [1, 2]], dtype=float)\n",
    "B, D1, D2 = osborne_urbino(A, tol=1e-3)\n",
    "print(\"Balanced matrix B:\")\n",
    "print(B)\n",
    "print(\"Row scaling matrix D1:\")\n",
    "print(D1)\n",
    "print(\"Column scaling matrix D2:\")\n",
    "print(D2)"
   ]
  }
 ],
 "metadata": {
  "kernelspec": {
   "display_name": "rl",
   "language": "python",
   "name": "python3"
  },
  "language_info": {
   "codemirror_mode": {
    "name": "ipython",
    "version": 3
   },
   "file_extension": ".py",
   "mimetype": "text/x-python",
   "name": "python",
   "nbconvert_exporter": "python",
   "pygments_lexer": "ipython3",
   "version": "3.11.11"
  }
 },
 "nbformat": 4,
 "nbformat_minor": 2
}
