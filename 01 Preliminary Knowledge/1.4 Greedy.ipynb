{
 "cells": [
  {
   "cell_type": "markdown",
   "metadata": {},
   "source": [
    "# 01 Preliminary Knowledge"
   ]
  },
  {
   "cell_type": "markdown",
   "metadata": {},
   "source": [
    "## 1.4 Greedy"
   ]
  },
  {
   "cell_type": "markdown",
   "metadata": {},
   "source": [
    "### Example\n",
    "最大化总受益\n",
    "$$\\max \\sum_{i=1}^n r_ix_i$$\n",
    "其中，$x_i$是决策变量，表示是否选择第$i$个决策（通常是0或1）。"
   ]
  },
  {
   "cell_type": "markdown",
   "metadata": {},
   "source": [
    "### Greedy\n",
    "贪婪算法（贪心算法）是一种在每一步选择中都采取在当前状态下最好或最优的选择的算法。它的核心思想是通过一系列局部最优的选择，期望能够达到全局最优。  \n",
    "贪婪算法通常适用于那些可以通过局部最优解来构建全局最优解的问题。然而，需要注意的是，贪婪算法并不一定总能得到全局最优解，因为它仅仅考虑当前步骤的最优选择，而忽略了可能的全局影响和其他步骤的相互作用。  \n",
    "\n",
    "贪婪算法的**选择准则**是选择收益最高的决策：$i=\\arg \\max_j r_j$。  "
   ]
  },
  {
   "cell_type": "markdown",
   "metadata": {},
   "source": [
    "### $\\epsilon$-Greedy\n",
    "$\\epsilon$-greedy是一种在强化学习中常用的策略，用于平衡探索和利用之间的权衡。它通过设置一个概率值$\\epsilon$来决定是进行探索（随机选择动作）还是利用（选择当前已知的最优动作）。  \n",
    "\n",
    "$\\epsilon$-greedy算法的**选择准则**如下：\n",
    "- 当随机数小于$\\epsilon$时，进行探索，即随机选择一个动作。\n",
    "- 当随机数大于等于$\\epsilon$时，进行利用，即选择当前已知的最优动作。"
   ]
  }
 ],
 "metadata": {
  "kernelspec": {
   "display_name": "rl",
   "language": "python",
   "name": "python3"
  },
  "language_info": {
   "codemirror_mode": {
    "name": "ipython",
    "version": 3
   },
   "file_extension": ".py",
   "mimetype": "text/x-python",
   "name": "python",
   "nbconvert_exporter": "python",
   "pygments_lexer": "ipython3",
   "version": "3.11.11"
  }
 },
 "nbformat": 4,
 "nbformat_minor": 2
}
