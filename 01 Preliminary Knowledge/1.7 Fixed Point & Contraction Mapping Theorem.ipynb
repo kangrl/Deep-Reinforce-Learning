{
 "cells": [
  {
   "cell_type": "markdown",
   "metadata": {},
   "source": [
    "# 01 Preliminary Knowledge"
   ]
  },
  {
   "cell_type": "markdown",
   "metadata": {},
   "source": [
    "## 1.7 Fixed Point & Contraction Mapping Theorem"
   ]
  },
  {
   "cell_type": "markdown",
   "metadata": {},
   "source": [
    "### Fixed Point\n",
    "**不动点（Fixed Point）** 是数学中的一个基本概念，尤其在函数分析和拓扑学中具有重要地位。简单来说，一个函数的不动点就是函数在该点上的值等于该点的值。\n",
    "\n",
    "更正式地定义：设 $f$ 是一个从集合 $X$ 到自身的映射（即函数），如果存在一个元素 $x^* \\in X$，使得 $$f(x^*) = x^*$$，那么我们就称 $x^*$ 是 $f$ 的一个不动点。"
   ]
  },
  {
   "cell_type": "markdown",
   "metadata": {},
   "source": [
    "### Example\n",
    "**实数函数**:\n",
    "考虑函数 $f(x) = x^2 - 3x + 4$，我们需要找到其不动点。设 $x$ 是不动点，则有：\n",
    "$$x = f(x) = x^2 - 3x + 4$$\n",
    "这是一个二次方程，我们可以通过求解这个方程来找到不动点。将方程整理为标准形式：\n",
    "$$x^2 - 4x + 4 = 0$$\n",
    "使用求根公式 $x = \\frac{-b \\pm \\sqrt{b^2 - 4ac}}{2a}$，其中 $a = 1$，$b = -4$，$c = 4$，我们得到：\n",
    "$$x = \\frac{4 \\pm \\sqrt{16 - 16}}{2} = \\frac{4 \\pm 0}{2} = 2$$\n",
    "因此，$x = 2$ 是函数 $f(x) = x^2 - 3x + 4$ 的不动点。\n",
    "\n",
    "**线性代数**：\n",
    "在矩阵理论中，一个方阵$A$的特征向量对应的不动点就是特征值。即如果$v$是$A$的特征向量，那么$Av=λv$，其中$λ$是特征值。\n",
    "\n",
    "**迭代过程**：\n",
    "在数值分析中，不动点的求解通常通过迭代方法进行。例如，我们可以从一个初始猜测 $x_0$ 开始，然后反复应用函数 $f(x)$ 来生成一个序列 $\\{x_n\\}$，即：\n",
    "$$x_{n+1} = f(x_n)$$\n",
    "如果这个序列收敛到某个极限值 $L$，那么这个极限值就是函数 $f(x)$ 的不动点。"
   ]
  },
  {
   "cell_type": "markdown",
   "metadata": {},
   "source": [
    "## Contraction Mapping Theorem\n",
    "压缩映射定理（Contraction Mapping Theorem），也称为Banach固定点定理，是数学中的一个重要定理，特别是在度量空间和函数分析中。该定理提供了在完备度量空间中寻找函数不动点的条件和方法。\n",
    "\n",
    "**定义：**\n",
    "设 $(X, d)$ 是一个完备的度量空间（即每个柯西序列都收敛到空间中的某个点），$f: X \\to X$是一个映射。如果存在一个常数 $0 \\leq k < 1$，使得对于任意的 $x, y \\in X$，都有：\n",
    "$$d(f(x), f(y)) \\leq k \\cdot d(x, y)$$\n",
    "则称映射$f$是一个压缩映射。\n",
    "\n",
    "压缩映射 $f$ 在 $X$ 中有一个唯一的不动点，即存在唯一的 $x^*  \\in X$，使得 $f(x^*) = x^*$。"
   ]
  }
 ],
 "metadata": {
  "kernelspec": {
   "display_name": "rl",
   "language": "python",
   "name": "python3"
  },
  "language_info": {
   "codemirror_mode": {
    "name": "ipython",
    "version": 3
   },
   "file_extension": ".py",
   "mimetype": "text/x-python",
   "name": "python",
   "nbconvert_exporter": "python",
   "pygments_lexer": "ipython3",
   "version": "3.11.11"
  }
 },
 "nbformat": 4,
 "nbformat_minor": 2
}
