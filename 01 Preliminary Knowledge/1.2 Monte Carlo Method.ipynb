{
 "cells": [
  {
   "cell_type": "markdown",
   "metadata": {},
   "source": [
    "# 01 Preliminary Knowledge"
   ]
  },
  {
   "cell_type": "markdown",
   "metadata": {},
   "source": [
    "## 1.1 Markov Decision Process"
   ]
  },
  {
   "cell_type": "markdown",
   "metadata": {},
   "source": [
    "## 1.2 Monte Carlo Method"
   ]
  },
  {
   "cell_type": "markdown",
   "metadata": {},
   "source": [
    "### 蒙特卡洛方法\n",
    "一种基于随机采样的方法，它的核心思想是通过大量随机实验来近似求解问题的解，尤其适用于那些难以通过解析方法或确定性算法解决的问题（原理：大数定律），也被称为统计模拟方法，是一种基于概率统计的数值计算方法。\n",
    "\n",
    "**核心特点：**\n",
    "- 随机性：依赖于随机采样，通过生成大量随机样本进行模拟；\n",
    "- 统计性：利用统计学原理对结果进行分析，估计目标值及其误差；\n",
    "- 近似性：通过大量实验逼近真实值，结果的精度岁样本数量的增加而提高；\n",
    "\n",
    "**基本步骤：**\n",
    "- 1.定义问题：将问题转化为概率模型，明确需要计算的量（如期望值、积分、概率等）\n",
    "- 2.生成随机样本：根据问题的概率分布，生成大量随机样本；\n",
    "- 3.计算样本值：对每个样本进行计算，得到目标量的估计值；\n",
    "- 4.统计分析：对结果进行统计分析，计算估计值及其误差（如方差、置信区间等）。\n",
    "\n",
    "**优点：**\n",
    "- 适应性广：可以处理高维、非线性、非解析的问题；适用于复杂的概率分布和随机过程；\n",
    "- 易于实现：算法简单直观、编程实现相对容易；\n",
    "- 并行性强：随机试验相互独立，适合并行计算，提高效率；\n",
    "\n",
    "**缺点：**\n",
    "- 误差通常以$1/\\sqrt{N}$的速度减小；要达到高精度，需要大量的样本；\n",
    "- 结果具有随机性：由于以来随机采样，结果可能存在波动，需要多次试验以确保稳定性。"
   ]
  },
  {
   "cell_type": "markdown",
   "metadata": {},
   "source": [
    "### 一个蒙特卡罗方法的例子"
   ]
  },
  {
   "cell_type": "markdown",
   "metadata": {},
   "source": [
    "通过蒙特卡洛方法估计圆周率$\\pi$：\n",
    "\n",
    "- 1.定义问题：将圆周率估计问题转化成估计单位圆面积与单位正方形面积比例；\n",
    "- 2.生成随机样本：在单位正方形$[0,1] \\times [0,1]$内随机撒点；\n",
    "- 3.统计分析：统计落在单位元内的点的比例；\n",
    "- 4.问题求解：圆的面积公式，估计$\\pi$值。"
   ]
  },
  {
   "cell_type": "code",
   "execution_count": 5,
   "metadata": {},
   "outputs": [],
   "source": [
    "import random"
   ]
  },
  {
   "cell_type": "code",
   "execution_count": 6,
   "metadata": {},
   "outputs": [],
   "source": [
    "def estimate_pi(N):\n",
    "    \"\"\" Estimate Pi by Monte Carlo: pi / 4 = M / N \"\"\"\n",
    "\n",
    "    M = 0\n",
    "    for _ in range(N):\n",
    "        x = random.uniform(0, 1)\n",
    "        y = random.uniform(0, 1)\n",
    "\n",
    "        if x ** 2 + y ** 2 <= 1:\n",
    "            M += 1\n",
    "\n",
    "    return 4 * M / N"
   ]
  },
  {
   "cell_type": "code",
   "execution_count": 7,
   "metadata": {},
   "outputs": [
    {
     "data": {
      "text/plain": [
       "3.14064"
      ]
     },
     "execution_count": 7,
     "metadata": {},
     "output_type": "execute_result"
    }
   ],
   "source": [
    "pi = estimate_pi(100000)\n",
    "pi"
   ]
  }
 ],
 "metadata": {
  "kernelspec": {
   "display_name": "rl",
   "language": "python",
   "name": "python3"
  },
  "language_info": {
   "codemirror_mode": {
    "name": "ipython",
    "version": 3
   },
   "file_extension": ".py",
   "mimetype": "text/x-python",
   "name": "python",
   "nbconvert_exporter": "python",
   "pygments_lexer": "ipython3",
   "version": "3.11.11"
  }
 },
 "nbformat": 4,
 "nbformat_minor": 2
}
