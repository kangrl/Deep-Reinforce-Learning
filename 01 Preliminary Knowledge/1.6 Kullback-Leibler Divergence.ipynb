{
 "cells": [
  {
   "cell_type": "markdown",
   "metadata": {},
   "source": [
    "# 01 Preliminary Knowledge"
   ]
  },
  {
   "cell_type": "markdown",
   "metadata": {},
   "source": [
    "## 1.6 Kullback-Leibler Divergence"
   ]
  },
  {
   "cell_type": "markdown",
   "metadata": {},
   "source": [
    "### Kullback-Leibler Divergence (KL Divergence)\n",
    "KL散度（Kullback-Leibler Divergence），也称为相对熵（Relative Entropy），是衡量两个概率分布之间差异的一种非对称性度量。它表示一个概率分布Q相对于另一个概率分布P的差异程度。KL散度在信息论、机器学习、统计推断等领域有广泛应用。\n",
    "\n",
    "对于两个概率分布$P$和$Q$，其KL散度的定义如下：\n",
    "$$ D_{KL}(P || Q) = \\sum_{x \\in X} P(x) \\log \\left(\\frac{P(x)}{Q(x)}\\right) $$\n",
    "其中，$X$是所有可能的事件集合，$P(x)$和$Q(x)$分别是$P$和$Q$在事件$x$上的概率。\n",
    "\n",
    "**KL散度的性质**包括：\n",
    "1. **非负性**：对于任意的两个概率分布$P$和$Q$，$D_{KL}(P || Q) \\geq 0$，当且仅当$P = Q$时，$D_{KL}(P || Q) = 0$；\n",
    "2. **不对称性**：$D_{KL}(P || Q) \\neq D_{KL}(Q || P)$，即KL散度不满足对称性；\n",
    "3. **无界性**：KL散度可以趋向于无穷大，因为当$Q(x)$在某些事件上为0时，$\\log \\left(\\frac{P(x)}{Q(x)}\\right)$会趋向于无穷大；\n",
    "4. **扩展性**：如果$P$和$Q$是连续分布，则积分形式为：\n",
    "   $$ D_{KL}(P || Q) = \\int_{-\\infty}^{\\infty} p(x) \\log \\left(\\frac{p(x)}{q(x)}\\right) dx $$\n",
    "\n",
    "**注意事项**：\n",
    "- KL散度不是一种距离度量，因为它不满足对称性和三角不等式。\n",
    "- 在实际应用中，KL散度常用于比较两个概率分布的相似性，特别是在信息论和机器学习领域。"
   ]
  }
 ],
 "metadata": {
  "kernelspec": {
   "display_name": "rl",
   "language": "python",
   "name": "python3"
  },
  "language_info": {
   "codemirror_mode": {
    "name": "ipython",
    "version": 3
   },
   "file_extension": ".py",
   "mimetype": "text/x-python",
   "name": "python",
   "nbconvert_exporter": "python",
   "pygments_lexer": "ipython3",
   "version": "3.11.11"
  }
 },
 "nbformat": 4,
 "nbformat_minor": 2
}
