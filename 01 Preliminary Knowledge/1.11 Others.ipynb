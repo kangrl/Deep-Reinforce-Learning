{
 "cells": [
  {
   "cell_type": "markdown",
   "metadata": {},
   "source": [
    "# 01 Preliminary Knowledge"
   ]
  },
  {
   "cell_type": "markdown",
   "metadata": {},
   "source": [
    "## 1.11 Line Search"
   ]
  },
  {
   "cell_type": "markdown",
   "metadata": {},
   "source": [
    "### Line Search\n",
    "线性搜索（Linear Search）是一种简单的搜索算法，适用于在列表或数组中查找特定元素。它的基本思想是从头到尾逐个检查每个元素，直到找到目标元素或遍历完整个列表。\n",
    "\n",
    "**线性搜索一般流程：**\n",
    "1. **初始化**：从列表的第一个元素开始；\n",
    "2. **便利**：逐个检查列表中的每一个元素；\n",
    "    - 如果当前元素等于目标元素，返回该元素的索引；\n",
    "    - 如果当前元素不等于目标元素，继续检查下一个元素；\n",
    "3. **结束**：如果遍历完整个列表仍未找到目标元素，返回一个表示未找到的值（如-1）。"
   ]
  },
  {
   "cell_type": "code",
   "execution_count": 1,
   "metadata": {},
   "outputs": [],
   "source": [
    "def linear_search(arr, target):\n",
    "    for i in range(len(arr)):\n",
    "        if arr[i] == target:\n",
    "            return i  # 返回目标元素的索引\n",
    "    return -1  # 如果未找到，返回 -1"
   ]
  },
  {
   "cell_type": "code",
   "execution_count": 2,
   "metadata": {},
   "outputs": [
    {
     "name": "stdout",
     "output_type": "stream",
     "text": [
      "目标元素 8 在列表中的索引为: 3\n"
     ]
    }
   ],
   "source": [
    "# 示例\n",
    "arr = [3, 5, 2, 8, 10]\n",
    "target = 8\n",
    "result = linear_search(arr, target)\n",
    "if result != -1:\n",
    "    print(f\"目标元素 {target} 在列表中的索引为: {result}\")\n",
    "else:\n",
    "    print(f\"目标元素 {target} 未找到\")"
   ]
  }
 ],
 "metadata": {
  "kernelspec": {
   "display_name": "rl",
   "language": "python",
   "name": "python3"
  },
  "language_info": {
   "codemirror_mode": {
    "name": "ipython",
    "version": 3
   },
   "file_extension": ".py",
   "mimetype": "text/x-python",
   "name": "python",
   "nbconvert_exporter": "python",
   "pygments_lexer": "ipython3",
   "version": "3.11.11"
  }
 },
 "nbformat": 4,
 "nbformat_minor": 2
}
