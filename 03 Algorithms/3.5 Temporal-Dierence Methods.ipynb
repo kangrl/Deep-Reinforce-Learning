{
 "cells": [
  {
   "metadata": {},
   "cell_type": "markdown",
   "source": "# 03 Algorithms",
   "id": "32d341c4e30b47a1"
  },
  {
   "metadata": {},
   "cell_type": "markdown",
   "source": "## 3.5 Temporal-Difference Methods",
   "id": "ede854d2ede1d6d5"
  },
  {
   "metadata": {},
   "cell_type": "markdown",
   "source": "###",
   "id": "68bbc2546e9f67ee"
  },
  {
   "cell_type": "code",
   "execution_count": null,
   "id": "initial_id",
   "metadata": {
    "collapsed": true
   },
   "outputs": [],
   "source": [
    ""
   ]
  }
 ],
 "metadata": {
  "kernelspec": {
   "display_name": "Python 3",
   "language": "python",
   "name": "python3"
  },
  "language_info": {
   "codemirror_mode": {
    "name": "ipython",
    "version": 2
   },
   "file_extension": ".py",
   "mimetype": "text/x-python",
   "name": "python",
   "nbconvert_exporter": "python",
   "pygments_lexer": "ipython2",
   "version": "2.7.6"
  }
 },
 "nbformat": 4,
 "nbformat_minor": 5
}
