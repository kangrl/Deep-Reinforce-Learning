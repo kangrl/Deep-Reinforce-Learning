{
 "cells": [
  {
   "cell_type": "markdown",
   "id": "18a44b6c5d69b2b8",
   "metadata": {},
   "source": [
    "# 03 Algorithms"
   ]
  },
  {
   "cell_type": "markdown",
   "id": "3e7a409e17153f94",
   "metadata": {},
   "source": [
    "## 3.7 Sarsa & n-step Sarsa"
   ]
  },
  {
   "cell_type": "markdown",
   "id": "6dd8e472ff4f3b2",
   "metadata": {},
   "source": [
    "### Sarsa\n",
    "既然可以使用Temporal-Difference算法来估计状态价值，那么也可以直接使用其来估计动作价值。这一点非常重要，因为可以将估计的动作价值与策略提升相结合，来学习最优策略。\n",
    "\n",
    "给定策略$\\pi$，我们的目标是：对于所有的$s \\in \\mathcal{S}$和动作$a \\in \\mathcal{A}(s)$，估计状态价值$q_{\\pi}(s, a)$。\n",
    "\n",
    "假设我们有遵循策略$\\pi$生成的样本集$ (s_0, a_0, r_1, s_1, a_1, r_2, s_2, ... ,s_t, a_t, r_{t+1}, s_{t+1}, a_{t+1}, ...) $，也可以表示为$\\{(s_i, a_i, r_{i+1}, s_{i+1})\\}^{T}_{i=0}$。\n",
    "\n",
    "Sarsa算法利用这些样本来估计动作价值:\n",
    "$$\n",
    "\\begin{cases}\n",
    "q_{t+1}(s_t, a_t) = q_t(s_t,a_t) - \\alpha_t(s_t, a_t)[q_t(s_t,a_t) - (r_{t+1} + \\gamma q_t(s_{t+1}, a_{t+1}))] & (s, t)=(s_t, a_t) \\\\\n",
    "q_{t+1}(s, a) = q_t(s, a) & (s, a) \\neq (s_t, a_t)\n",
    "\\end{cases}\n",
    "$$\n",
    "\n",
    "其中，$t=0,1,2,...$，$\\alpha_t(s_t, a_t)$是一个很小的正数，代表学习率。\n",
    "\n",
    "Sarsa的推导过程与Temporal-Difference类似，感兴趣的话可以回顾上一章节。"
   ]
  },
  {
   "cell_type": "markdown",
   "id": "109d21a2ce25cea3",
   "metadata": {},
   "source": [
    "### Sarsa Algorithms\n",
    "- 初始化：对于所有的状态-动作对$(s,a)$和时刻$t$初始化$\\alpha_t(s,a)=\\alpha>0$、初始化$q_0(s,a)$、初始化贪婪策略$\\pi_0$，$\\epsilon \\in (0,1)$\n",
    "- 对于每一个episode:\n",
    "- $\\qquad$ 遵循策略$\\pi_0(s_0)$在$t_0$时刻生成动作$a_0$\n",
    "- $\\qquad$ 如果$s_t(t=0,1,2,\\cdots)$不是目标状态，则：\n",
    "- $\\qquad\\qquad$ 给定$(s_t,a_t)$采样得到$(r_{t+1},s_{t+1}, a_{t+1})$，其中$a_{t+1}$遵循$\\pi_t(s_{t+1})$\n",
    "- $\\qquad\\qquad$ 更新动作价值：$q_{t+1}(s_t, a_t) \\leftarrow q_{t}(s_t, a_t)-\\alpha_{t}(s_t, a_t)[q_{t}(s_t,a_t) - (r_{t+1}+\\gamma q_{t}(s_{t+1},a_{t+1}))]$\n",
    "- $\\qquad\\qquad$ 更新策略：如果$a = \\arg\\max_a q_{t+1}(s_t, a)$， $\\pi_{t+1}(a|s_t)=1-\\frac{\\epsilon}{|\\cal A(s_t)|}(|\\cal A(s_t)| - 1)$，否则$\\pi_{t+1}(a|s_t) = \\frac{\\epsilon}{|\\cal A(s_t)|}$\n",
    "- $\\qquad$ $s_t \\leftarrow s_{t+1}$, $a_t \\leftarrow a_{t+1}$"
   ]
  },
  {
   "cell_type": "markdown",
   "id": "c44c551af3d07f29",
   "metadata": {},
   "source": [
    "### Example"
   ]
  },
  {
   "cell_type": "code",
   "execution_count": 1,
   "id": "f5057ac35421ed02",
   "metadata": {
    "jupyter": {
     "is_executing": true
    }
   },
   "outputs": [],
   "source": [
    "import time\n",
    "\n",
    "import numpy as np\n",
    "import gymnasium as gym\n",
    "from tqdm import tqdm"
   ]
  },
  {
   "cell_type": "code",
   "execution_count": null,
   "id": "bbd96b763277a95a",
   "metadata": {
    "ExecuteTime": {
     "end_time": "2025-02-17T01:12:21.569771Z",
     "start_time": "2025-02-16T09:53:37.161584Z"
    }
   },
   "outputs": [],
   "source": [
    "class Sarsa:\n",
    "    \"\"\" Sarsa Algorithm \"\"\"\n",
    "\n",
    "    def __init__(self, env, alpha=0.1, gamma=0.9, epsilon=0.1, epsilon_decay=0.99):\n",
    "\n",
    "        self.env = env\n",
    "        self.alpha = alpha\n",
    "        self.gamma = gamma\n",
    "        self.epsilon = epsilon\n",
    "        self.epsilon_decay = epsilon_decay\n",
    "\n",
    "        self.returns = []\n",
    "        self.q_tables = np.zeros((env.observation_space.n, env.action_space.n))\n",
    "        self.policy = np.ones((env.observation_space.n, env.action_space.n)) / env.action_space.n\n",
    "\n",
    "    @staticmethod\n",
    "    def custom_reward(done, reward):\n",
    "        if done and reward == 1:\n",
    "            return 10\n",
    "        elif done and reward == 0:\n",
    "            return -5\n",
    "        else:\n",
    "            return -0.1\n",
    "\n",
    "    def take_action(self, state):\n",
    "        \"\"\" Take an action based on policy \"\"\"\n",
    "\n",
    "        return np.random.choice(range(self.env.action_space.n), p=self.policy[state])\n",
    "\n",
    "    def best_action(self, state):\n",
    "        \"\"\" Return the best action based on the Q-table \"\"\"\n",
    "        return np.argmax(self.q_tables[state])\n",
    "\n",
    "    def update_policy_and_values(self, state, action, reward, next_state, next_action):\n",
    "        td_error = self.q_tables[state][action] - (reward + self.gamma * self.q_tables[next_state][next_action])\n",
    "        self.q_tables[state][action] -= self.alpha * td_error\n",
    "\n",
    "        best_action = self.best_action(state)\n",
    "        policy = np.ones(self.env.action_space.n) * self.epsilon / self.env.action_space.n\n",
    "        policy[best_action] = 1 - self.epsilon / self.env.action_space.n * (self.env.action_space.n - 1)\n",
    "        self.policy[state] = policy\n",
    "\n",
    "    def train(self, episodes=1000):\n",
    "        for i in range(10):\n",
    "            with tqdm(total=episodes // 10, desc=f'Episode {i + 1}') as pbar:\n",
    "                for episode in range(episodes // 10):\n",
    "                    state, info = self.env.reset()\n",
    "                    action = self.take_action(state)\n",
    "                    done = False\n",
    "\n",
    "                    gamma_power = 1\n",
    "                    episode_return = 0\n",
    "                    while not done:\n",
    "                        next_state, reward, terminated, truncated, info = self.env.step(action)\n",
    "                        next_action = self.take_action(next_state)\n",
    "\n",
    "                        done = terminated or truncated\n",
    "                        reward = self.custom_reward(done, reward)\n",
    "\n",
    "                        self.update_policy_and_values(state, action, reward, next_state, next_action)\n",
    "                        state, action = next_state, next_action\n",
    "\n",
    "                        episode_return += reward * gamma_power\n",
    "                        gamma_power *= self.gamma\n",
    "\n",
    "                    self.returns.append(episode_return)\n",
    "                    if (episode + 1) % 10 == 0:\n",
    "                        pbar.set_postfix(\n",
    "                            {\n",
    "                                'epoch': episodes / 10 * i + episode + 1,\n",
    "                                'return': np.mean(self.returns),\n",
    "                                'epsilon': self.epsilon\n",
    "                            }\n",
    "                        )\n",
    "                    pbar.update(1)\n",
    "\n",
    "                    self.epsilon *= self.epsilon_decay\n",
    "                    self.epsilon = max(self.epsilon, 0.01)\n",
    "\n",
    "    def visualize_policy(self, delay=0.5):\n",
    "        state, info = self.env.reset()\n",
    "        done = False\n",
    "\n",
    "        while not done:\n",
    "            self.env.render()\n",
    "            action = np.argmax(self.policy[state])\n",
    "            state, reward, terminated, truncated, info = self.env.step(action)\n",
    "            done = terminated or truncated\n",
    "            time.sleep(delay)\n",
    "\n",
    "        self.env.render()\n",
    "        self.env.close()"
   ]
  },
  {
   "cell_type": "code",
   "execution_count": 3,
   "id": "6dba985bc3465c79",
   "metadata": {
    "ExecuteTime": {
     "end_time": "2025-02-17T01:12:21.571770200Z",
     "start_time": "2025-02-16T09:53:37.277029Z"
    }
   },
   "outputs": [
    {
     "data": {
      "text/plain": [
       "(0, {'prob': 1})"
      ]
     },
     "execution_count": 3,
     "metadata": {},
     "output_type": "execute_result"
    }
   ],
   "source": [
    "environment = gym.make('FrozenLake-v1', desc=None, map_name='4x4', is_slippery=True, render_mode='human')\n",
    "environment.reset()"
   ]
  },
  {
   "cell_type": "code",
   "execution_count": 4,
   "id": "85f78282109327c7",
   "metadata": {
    "ExecuteTime": {
     "end_time": "2025-02-17T01:12:21.572775900Z",
     "start_time": "2025-02-16T09:53:38.118735Z"
    }
   },
   "outputs": [],
   "source": [
    "agent = Sarsa(environment, gamma=0.9, epsilon=0.99, alpha=0.1, epsilon_decay=0.99)"
   ]
  },
  {
   "cell_type": "code",
   "execution_count": 5,
   "id": "2fc38530a1cc379d",
   "metadata": {
    "ExecuteTime": {
     "end_time": "2025-02-17T01:12:21.572775900Z",
     "start_time": "2025-02-16T09:53:38.132160Z"
    }
   },
   "outputs": [
    {
     "name": "stderr",
     "output_type": "stream",
     "text": [
      "Episode 1: 100%|██████████| 10/10 [00:29<00:00,  2.92s/it, epoch=10, return=-2.21, epsilon=0.904]\n",
      "Episode 2: 100%|██████████| 10/10 [00:20<00:00,  2.05s/it, epoch=20, return=-2.8, epsilon=0.818]\n",
      "Episode 3: 100%|██████████| 10/10 [00:29<00:00,  2.96s/it, epoch=30, return=-2.8, epsilon=0.74]\n",
      "Episode 4: 100%|██████████| 10/10 [00:34<00:00,  3.41s/it, epoch=40, return=-2.71, epsilon=0.669]\n",
      "Episode 5: 100%|██████████| 10/10 [00:33<00:00,  3.36s/it, epoch=50, return=-2.77, epsilon=0.605]\n",
      "Episode 6: 100%|██████████| 10/10 [00:34<00:00,  3.48s/it, epoch=60, return=-2.69, epsilon=0.547]\n",
      "Episode 7: 100%|██████████| 10/10 [00:39<00:00,  3.93s/it, epoch=70, return=-2.63, epsilon=0.495]\n",
      "Episode 8: 100%|██████████| 10/10 [00:59<00:00,  5.96s/it, epoch=80, return=-2.54, epsilon=0.448]\n",
      "Episode 9: 100%|██████████| 10/10 [01:10<00:00,  7.04s/it, epoch=90, return=-2.45, epsilon=0.405]\n",
      "Episode 10: 100%|██████████| 10/10 [00:50<00:00,  5.06s/it, epoch=100, return=-2.37, epsilon=0.366]"
     ]
    },
    {
     "name": "stdout",
     "output_type": "stream",
     "text": [
      "Optimal policy: [[0.09150809 0.09150809 0.72547574 0.09150809]\n",
      " [0.09336607 0.09336607 0.09336607 0.71990179]\n",
      " [0.09430916 0.09430916 0.09430916 0.71707251]\n",
      " [0.09719598 0.09719598 0.09719598 0.70841206]\n",
      " [0.72547574 0.09150809 0.09150809 0.09150809]\n",
      " [0.25       0.25       0.25       0.25      ]\n",
      " [0.71707251 0.09430916 0.09430916 0.09430916]\n",
      " [0.25       0.25       0.25       0.25      ]\n",
      " [0.09150809 0.09150809 0.09150809 0.72547574]\n",
      " [0.09150809 0.72547574 0.09150809 0.09150809]\n",
      " [0.09430916 0.09430916 0.09430916 0.71707251]\n",
      " [0.25       0.25       0.25       0.25      ]\n",
      " [0.25       0.25       0.25       0.25      ]\n",
      " [0.09150809 0.09150809 0.72547574 0.09150809]\n",
      " [0.09150809 0.72547574 0.09150809 0.09150809]\n",
      " [0.25       0.25       0.25       0.25      ]]\n",
      "Optimal Q-tables: [[-1.01559353 -1.06989897 -0.9636885  -1.02199663]\n",
      " [-1.52065454 -1.71261633 -1.89778664 -0.9925104 ]\n",
      " [-0.97068464 -1.03971351 -0.97505165 -0.96592795]\n",
      " [-1.46044692 -1.40466242 -1.71652922 -0.89960105]\n",
      " [-0.90706567 -1.75387427 -1.63598796 -2.48823022]\n",
      " [ 0.          0.          0.          0.        ]\n",
      " [-2.03712918 -2.21160226 -2.23267433 -2.14224973]\n",
      " [ 0.          0.          0.          0.        ]\n",
      " [-1.33440029 -0.8844468  -2.04992476 -0.84342884]\n",
      " [-0.53812394 -0.51130767 -0.9581     -0.9581    ]\n",
      " [-0.65899481 -0.91998551 -0.673423   -0.55768341]\n",
      " [ 0.          0.          0.          0.        ]\n",
      " [ 0.          0.          0.          0.        ]\n",
      " [-0.49188233 -0.46858543  0.25323157 -0.23192777]\n",
      " [-0.01        3.14450008 -0.05847698 -0.09879856]\n",
      " [ 0.          0.          0.          0.        ]]\n"
     ]
    },
    {
     "name": "stderr",
     "output_type": "stream",
     "text": [
      "\n"
     ]
    }
   ],
   "source": [
    "agent.train(100)\n",
    "print(f\"Optimal policy: {agent.policy}\")\n",
    "print(f\"Optimal Q-tables: {agent.q_tables}\")"
   ]
  },
  {
   "cell_type": "code",
   "execution_count": 6,
   "id": "8d479aac075443e4",
   "metadata": {
    "ExecuteTime": {
     "end_time": "2025-02-17T01:12:21.573777500Z",
     "start_time": "2025-02-16T09:59:48.943501Z"
    }
   },
   "outputs": [],
   "source": [
    "agent.visualize_policy(delay=0.005)"
   ]
  },
  {
   "cell_type": "markdown",
   "id": "4dc8f3b8d949fbaa",
   "metadata": {},
   "source": [
    "### n-step Sarsa\n",
    "我们来回顾一下动作价值的定义：\n",
    "$$\n",
    "q_{\\pi}(s, a) = \\mathbb{E}_{\\pi}[G_t | S_t=s, A_t=a]\n",
    "$$\n",
    "其中 $G_t$ 是在时间步$t$之后收到的截断回报：\n",
    "$$\n",
    "G_t = R_{t+1} + \\gamma R_{t+2} + \\gamma^2 R_3 + \\cdots\n",
    "$$\n",
    "\n",
    "事实上，可以对截断回报进行展开：\n",
    "$$\n",
    "\\begin{align*}\n",
    "Sarsa \\leftarrow G_t^1 &= R_{t+1} + \\gamma q_{\\pi}(S_{t+1}, A_{t+1}) \\\\\n",
    "G_t^2 &= R_{t+1} + \\gamma R_{t+2} + \\gamma^2 q_{\\pi}(S_{t+2}, A_{t+2}) \\\\\n",
    "&\\vdots \\\\\n",
    "n-step \\ Sarsa \\leftarrow G_t^n &= R_{t+1} + \\gamma R_{t+2} + \\cdots + \\gamma^{n-1} R_{t+n} + \\gamma^n q_{\\pi}(S_{t+n}, A_{t+n}) \\\\\n",
    "&\\vdots \\\\\n",
    "Monte \\ Carlo \\leftarrow G_t^{\\infty} &= R_{t+1} + \\gamma R_{t+2} + \\gamma^2 R_{t+3} + \\cdots\n",
    "\\end{align*}\n",
    "$$\n",
    "\n",
    "\n",
    "**当$n=1$时（Sarsa）**：\n",
    "$$\n",
    "G_t^1 = \\mathbb{E} [G_t^1|s,a] = \\mathbb{E} [R_{t+1} + \\gamma q_{\\pi}(S_{t+1}, A_{t+1})|S=s,A=a]\n",
    "$$\n",
    "相应地，根据Robbins-Monro算法进行求解，可以得到近似求解算法：\n",
    "$$\n",
    "q_{t+1}(s_t, a_t) = q_t(s_t, a_t) - \\alpha [q_t(s_t, a_t) - (R_{t+1} + \\gamma q_t(S_{t+1}, A_{t+1}))]\n",
    "$$\n",
    "\n",
    "\n",
    "**当$n=\\infty$时（Monte Carlo）**：\n",
    "$$\n",
    "q_{\\pi}(s,a) = \\mathbb{E}_{\\pi}[G_{t}^{\\infty}|S=s,A=a] = \\mathbb{E}_{\\pi}[R_{t+1} + \\gamma R_{t+2} + \\gamma^2 R_{t+3} + ... |S=s,A=a]\n",
    "$$\n",
    "相应地，求解算法：\n",
    "$$\n",
    "q_{t+1}(s_t, a_t) = r_{t+1} + \\gamma r_{t+1} + \\gamma^2 r_{t+3} ...\n",
    "$$\n",
    "\n",
    "\n",
    "**当$\\infty > n >1$时（n-step Sarsa）**：\n",
    "$$\n",
    "q_{\\pi}(s,a) = \\mathbb{E}_{\\pi}[G_{t}^{n}|S=s,A=a] = \\mathbb{E}_{\\pi}[R_{t+1} + \\gamma R_{t+2} + \\gamma^2 R_{t+3} + ... + \\gamma^{n}q_{\\pi}(S_{t+n},A_{t+n}) |S=s,A=a]\n",
    "$$\n",
    "相应地，根据Robbins-Monro算法进行求解，可以得到近似求解算法：\n",
    "$$\n",
    "q_{t+1}(s_t, a_t) = q_{t}(s_t, a_t) - \\alpha_t(s_t, a_t)[q_{t}(s_t, a_t) - (r_{t+1} + \\gamma r_{t+2} + ... + \\gamma^{n-1}r_{t+n-1} + \\gamma^n q_{t}(s_{t+n}, a_{t+n}))]\n",
    "$$\n",
    "由于在时刻$t$无法采集到$(r_{t+n}, s_{t+n}, a_{t+n})$，根据n-step Sarsa要求，直到$t+n$时刻$q_{t+1}(s,a)$才能被更新。\n",
    "\n",
    "因此，对上式进行重写：\n",
    "$$\n",
    "q_{t+n}(s_t, a_t) = q_{t+n-1}(s_t, a_t) - \\alpha_{t+n-1}(s_t, a_t)[q_{t+n-1}(s_t, a_t) - (r_{t+1} + \\gamma r_{t+2} + ... + \\gamma^{n-1}r_{t+n-1} + \\gamma^n q_{t+n-1}(s_{t+n}, a_{t+n}))]\n",
    "$$\n",
    "其中，$q_{t+n}(s_t, a_t)$是$q_{\\pi}(s_t, a_t)$在时刻$t+n$的估计。"
   ]
  },
  {
   "cell_type": "markdown",
   "id": "e00617ea5c29a09a",
   "metadata": {},
   "source": [
    "### Example"
   ]
  },
  {
   "cell_type": "code",
   "execution_count": null,
   "id": "39f69dfc692d8c19",
   "metadata": {
    "ExecuteTime": {
     "end_time": "2025-02-17T01:12:21.574528500Z",
     "start_time": "2025-02-16T10:00:39.731202Z"
    }
   },
   "outputs": [],
   "source": [
    "class Sarsas:\n",
    "    \"\"\" n-step Sarsa algorithm \"\"\"\n",
    "\n",
    "    def __init__(self, env, steps=20, alpha=0.1, gamma=0.95, epsilon=0.1, epsilon_decay=0.99):\n",
    "        self.env = env\n",
    "        self.steps = steps\n",
    "        self.alpha = alpha\n",
    "        self.gamma = gamma\n",
    "        self.epsilon = epsilon\n",
    "        self.epsilon_decay = epsilon_decay\n",
    "\n",
    "        self.states = []\n",
    "        self.actions = []\n",
    "        self.rewards = []\n",
    "\n",
    "        self.returns = []\n",
    "        self.q_tables = np.zeros((env.observation_space.n, env.action_space.n))\n",
    "        self.policy = np.ones((env.observation_space.n, env.action_space.n)) / env.action_space.n\n",
    "\n",
    "    @staticmethod\n",
    "    def custom_reward(done, reward):\n",
    "        if done and reward == 1:\n",
    "            return 10\n",
    "        elif done and reward == 0:\n",
    "            return -5\n",
    "        else:\n",
    "            return -0.1\n",
    "\n",
    "    def take_action(self, state):\n",
    "        \"\"\" Take an epsilon-greedy action based on the Q-table \"\"\"\n",
    "\n",
    "        return np.random.choice(range(self.env.action_space.n), p=self.policy[state])\n",
    "\n",
    "    def best_action(self, state):\n",
    "        \"\"\" Return the best action based on the Q-table \"\"\"\n",
    "        return np.argmax(self.q_tables[state])\n",
    "\n",
    "    def update_policy_and_values(self, state, action, reward, next_state, next_action, done):\n",
    "        self.states.append(state)\n",
    "        self.actions.append(action)\n",
    "        self.rewards.append(reward)\n",
    "\n",
    "        if len(self.states) == self.steps or (done and len(self.states) > 0):\n",
    "            g = self.q_tables[next_state][next_action]\n",
    "            for i in reversed(range(len(self.states))):\n",
    "                g = self.rewards[i] + self.gamma * g\n",
    "                td_error = self.q_tables[self.states[i]][self.actions[i]] - g\n",
    "                self.q_tables[self.states[i]][self.actions[i]] -= self.alpha * td_error\n",
    "\n",
    "            self.states.pop(0)\n",
    "            self.actions.pop(0)\n",
    "            self.rewards.pop(0)\n",
    "\n",
    "        if done:\n",
    "            self.states = []\n",
    "            self.actions = []\n",
    "            self.rewards = []\n",
    "\n",
    "        best_action = self.best_action(state)\n",
    "        policy = np.ones(self.env.action_space.n) * self.epsilon / self.env.action_space.n\n",
    "        policy[best_action] = 1 - self.epsilon / self.env.action_space.n * (self.env.action_space.n - 1)\n",
    "        self.policy[state] = policy\n",
    "\n",
    "    def train(self, episodes=1000):\n",
    "        for i in range(10):\n",
    "            with tqdm(total=episodes // 10, desc=f'Episode {i + 1}') as pbar:\n",
    "                for episode in range(episodes // 10):\n",
    "                    state, info = self.env.reset()\n",
    "                    action = self.take_action(state)\n",
    "                    done = False\n",
    "\n",
    "                    gamma_power = 1\n",
    "                    episode_return = 0\n",
    "                    while not done:\n",
    "                        next_state, reward, terminated, truncated, info = self.env.step(action)\n",
    "                        next_action = self.take_action(next_state)\n",
    "\n",
    "                        done = terminated or truncated\n",
    "                        reward = self.custom_reward(done, reward)\n",
    "\n",
    "                        self.update_policy_and_values(state, action, reward, next_state, next_action, done)\n",
    "                        state, action = next_state, next_action\n",
    "\n",
    "                        episode_return += reward * gamma_power\n",
    "                        gamma_power *= self.gamma\n",
    "\n",
    "                    self.returns.append(episode_return)\n",
    "                    if (episode + 1) % 10 == 0:\n",
    "                        pbar.set_postfix(\n",
    "                            {\n",
    "                                'epoch': episodes / 10 * i + episode + 1,\n",
    "                                'return': np.mean(self.returns),\n",
    "                                'epsilon': self.epsilon\n",
    "                            }\n",
    "                        )\n",
    "                    pbar.update(1)\n",
    "\n",
    "                    self.epsilon *= self.epsilon_decay\n",
    "                    self.epsilon = max(self.epsilon, 0.01)\n",
    "\n",
    "    def visualize_policy(self, delay=0.5):\n",
    "        state, info = self.env.reset()\n",
    "        done = False\n",
    "\n",
    "        while not done:\n",
    "            self.env.render()\n",
    "            action = np.argmax(self.policy[state])\n",
    "            state, reward, terminated, truncated, info = self.env.step(action)\n",
    "            done = terminated or truncated\n",
    "            time.sleep(delay)\n",
    "\n",
    "        self.env.render()\n",
    "        self.env.close()"
   ]
  },
  {
   "cell_type": "code",
   "execution_count": 8,
   "id": "d09cc2a1f486e351",
   "metadata": {
    "ExecuteTime": {
     "end_time": "2025-02-17T01:12:21.577118800Z",
     "start_time": "2025-02-16T10:00:39.757001Z"
    }
   },
   "outputs": [
    {
     "data": {
      "text/plain": [
       "(0, {'prob': 1})"
      ]
     },
     "execution_count": 8,
     "metadata": {},
     "output_type": "execute_result"
    }
   ],
   "source": [
    "environment = gym.make('FrozenLake-v1', desc=None, map_name='4x4', is_slippery=True, render_mode='human')\n",
    "environment.reset()"
   ]
  },
  {
   "cell_type": "code",
   "execution_count": 9,
   "id": "f7cc54e360facb98",
   "metadata": {
    "ExecuteTime": {
     "end_time": "2025-02-17T01:12:21.592274900Z",
     "start_time": "2025-02-16T10:00:40.138103Z"
    }
   },
   "outputs": [],
   "source": [
    "agent = Sarsas(environment, steps=3, gamma=0.9, epsilon=0.99, alpha=0.1, epsilon_decay=0.99)"
   ]
  },
  {
   "cell_type": "code",
   "execution_count": 10,
   "id": "eb54195ffc36e454",
   "metadata": {
    "ExecuteTime": {
     "end_time": "2025-02-17T01:12:21.594264300Z",
     "start_time": "2025-02-16T10:00:40.166928Z"
    }
   },
   "outputs": [
    {
     "name": "stderr",
     "output_type": "stream",
     "text": [
      "Episode 1: 100%|██████████| 10/10 [00:20<00:00,  2.08s/it, epoch=10, return=-3.26, epsilon=0.904]\n",
      "Episode 2: 100%|██████████| 10/10 [00:20<00:00,  2.00s/it, epoch=20, return=-3.24, epsilon=0.818]\n",
      "Episode 3: 100%|██████████| 10/10 [00:27<00:00,  2.78s/it, epoch=30, return=-3.16, epsilon=0.74]\n",
      "Episode 4: 100%|██████████| 10/10 [00:18<00:00,  1.83s/it, epoch=40, return=-3.21, epsilon=0.669]\n",
      "Episode 5: 100%|██████████| 10/10 [00:43<00:00,  4.36s/it, epoch=50, return=-3.01, epsilon=0.605]\n",
      "Episode 6: 100%|██████████| 10/10 [00:44<00:00,  4.44s/it, epoch=60, return=-2.94, epsilon=0.547]\n",
      "Episode 7: 100%|██████████| 10/10 [00:21<00:00,  2.18s/it, epoch=70, return=-2.95, epsilon=0.495]\n",
      "Episode 8: 100%|██████████| 10/10 [00:39<00:00,  3.94s/it, epoch=80, return=-2.86, epsilon=0.448]\n",
      "Episode 9: 100%|██████████| 10/10 [00:26<00:00,  2.63s/it, epoch=90, return=-2.81, epsilon=0.405]\n",
      "Episode 10: 100%|██████████| 10/10 [00:56<00:00,  5.61s/it, epoch=100, return=-2.75, epsilon=0.366]"
     ]
    },
    {
     "name": "stdout",
     "output_type": "stream",
     "text": [
      "Optimal policy: [[0.09150809 0.72547574 0.09150809 0.09150809]\n",
      " [0.72547574 0.09150809 0.09150809 0.09150809]\n",
      " [0.09243241 0.72270277 0.09243241 0.09243241]\n",
      " [0.09719598 0.09719598 0.09719598 0.70841206]\n",
      " [0.72547574 0.09150809 0.09150809 0.09150809]\n",
      " [0.25       0.25       0.25       0.25      ]\n",
      " [0.09719598 0.09719598 0.09719598 0.70841206]\n",
      " [0.25       0.25       0.25       0.25      ]\n",
      " [0.09430916 0.09430916 0.09430916 0.71707251]\n",
      " [0.09430916 0.71707251 0.09430916 0.09430916]\n",
      " [0.70546673 0.09817776 0.09817776 0.09817776]\n",
      " [0.25       0.25       0.25       0.25      ]\n",
      " [0.25       0.25       0.25       0.25      ]\n",
      " [0.71707251 0.09430916 0.09430916 0.09430916]\n",
      " [0.10533356 0.68399933 0.10533356 0.10533356]\n",
      " [0.25       0.25       0.25       0.25      ]]\n",
      "Optimal Q-tables: [[-1.94108129 -1.95758322 -2.08477509 -2.08717269]\n",
      " [-1.97150716 -2.91516705 -2.76057243 -2.15470937]\n",
      " [-2.13068688 -1.56667659 -2.02633348 -1.62391002]\n",
      " [-1.82424086 -2.1552181  -2.43624225 -1.49204722]\n",
      " [-1.81766719 -2.17738677 -2.18241526 -2.39908646]\n",
      " [ 0.          0.          0.          0.        ]\n",
      " [-1.7195     -1.70337363 -1.36448367 -1.355     ]\n",
      " [ 0.          0.          0.          0.        ]\n",
      " [-1.6344133  -1.38879579 -1.85495159 -1.06444679]\n",
      " [-1.75388986 -1.29613867 -1.82521871 -1.32294751]\n",
      " [-0.40693989 -0.53524837 -1.15837022 -1.13650978]\n",
      " [ 0.          0.          0.          0.        ]\n",
      " [ 0.          0.          0.          0.        ]\n",
      " [-0.96241247 -1.5106011  -1.10905128 -1.30059531]\n",
      " [-0.13833872  1.46368228 -0.06148982  0.        ]\n",
      " [ 0.          0.          0.          0.        ]]\n"
     ]
    },
    {
     "name": "stderr",
     "output_type": "stream",
     "text": [
      "\n"
     ]
    }
   ],
   "source": [
    "agent.train(100)\n",
    "print(f\"Optimal policy: {agent.policy}\")\n",
    "print(f\"Optimal Q-tables: {agent.q_tables}\")"
   ]
  },
  {
   "cell_type": "code",
   "execution_count": 11,
   "id": "18e49e8d15927930",
   "metadata": {
    "ExecuteTime": {
     "end_time": "2025-02-17T01:12:21.595266500Z",
     "start_time": "2025-02-16T10:03:26.143699Z"
    }
   },
   "outputs": [],
   "source": [
    "agent.visualize_policy(delay=0.005)"
   ]
  }
 ],
 "metadata": {
  "kernelspec": {
   "display_name": "dl",
   "language": "python",
   "name": "python3"
  },
  "language_info": {
   "codemirror_mode": {
    "name": "ipython",
    "version": 3
   },
   "file_extension": ".py",
   "mimetype": "text/x-python",
   "name": "python",
   "nbconvert_exporter": "python",
   "pygments_lexer": "ipython3",
   "version": "3.11.10"
  }
 },
 "nbformat": 4,
 "nbformat_minor": 5
}
