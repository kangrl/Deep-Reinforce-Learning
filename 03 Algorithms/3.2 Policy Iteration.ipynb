{
 "cells": [
  {
   "cell_type": "markdown",
   "metadata": {},
   "source": [
    "# 03 Algorithms"
   ]
  },
  {
   "cell_type": "markdown",
   "metadata": {},
   "source": [
    "## 3.2 Policy Iteration"
   ]
  },
  {
   "cell_type": "markdown",
   "metadata": {},
   "source": [
    "### The Matric-Vector form of Policy Iteration\n",
    "**Policy Iteration** 是强化学习中的一个重要算法，与 **Value Iteration** 一样，用于求解马尔可夫决策过程（MDP）的最优策略。与Value Iteration进行价值迭代不同，Policy Iteration 通过迭代地改进策略和价值函数来找到最优策略。每一次迭代包括两个步骤：策略评估（Policy Evaluation）和策略改进（Policy Improvement）。\n",
    "#### Policy Evaluation:\n",
    "在策略评估步骤中，我们使用当前的策略 $\\pi$ 来计算状态值函数 $v_{\\pi_k}$。具体来说，我们通过解贝尔曼方程来更新价值函数：\n",
    "$$\n",
    "v_{\\pi_k} = r_{\\pi_k} + \\gamma P_{\\pi_k} v_{\\pi_k}\n",
    "$$\n",
    "其中，$v_{\\pi_k}$ 是要被计算的状态价值，$\\pi_k$ 是最近一次计算得到的策略，$\\gamma$ 是折扣因子。\n",
    "\n",
    "在之前求解Bellman Equation的时，我们提供了两种解法：\n",
    "- 闭式解（仅用于理论分析）：$$v_{\\pi_k} = (I - \\gamma P_{\\pi_k})^{-1} r_{\\pi_k}$$\n",
    "- 迭代法（用于实际计算）：$$v_{\\pi_{k+1}}^{(j+1)} = r_{\\pi_k} + \\gamma P_{\\pi_k} v_{\\pi_k}^{(j)} \\ \\ \\ \\ j=0,1,2,...$$，其中，$v_{\\pi_k}^{(j)}$ 是在第 $j$ 次迭代中计算得到的状态价值。\n",
    "\n",
    "\n",
    "\n",
    "#### Policy Improvement:\n",
    "在策略改进步骤中，我们使用当前的价值函数 $v^{\\pi_k}$ 来更新策略 $\\pi$。具体来说，求解如下最优化问题：\n",
    "\n",
    "$$ \\pi_{k+1}(s) = \\arg\\max_{\\pi} (r_{\\pi} + \\gamma P_{\\pi} v^{\\pi_k}) $$\n",
    "其中，$r_{\\pi}$ 是奖励函数，$P_{\\pi}$ 是状态转移矩阵。这个最优化问题表示在每个状态下选择能使当前状态的长期期望回报最大的动作。\n",
    "#### Stopping Criterion:\n",
    "策略迭代算法通常会设置一个停止准则来决定何时停止迭代。一种常见的停止准则是价值函数的差异小于某个阈值，即：\n",
    "$$ \\max_{s} |v_{\\pi_{k+1}}(s) - v_{\\pi_k}(s)| < \\epsilon $$\n",
    "其中，$\\epsilon$ 是一个很小的正数，表示允许的最大误差。当价值函数的差异小于这个阈值时，我们就可以认为策略已经收敛到最优策略了。\n"
   ]
  },
  {
   "cell_type": "markdown",
   "metadata": {},
   "source": [
    "### The Elementwise form of Policy Iteration\n",
    "**Policy Iteration** 是强化学习中的一个重要算法，与 **Value Iteration** 一样，用于求解马尔可夫决策过程（MDP）的最优策略。与Value Iteration进行价值迭代不同，Policy Iteration 通过迭代地改进策略和价值函数来找到最优策略。每一次迭代包括两个步骤：策略评估（Policy Evaluation）和策略改进（Policy Improvement）。\n",
    "#### Policy Evaluation:\n",
    "在策略评估步骤中，我们使用当前的策略 $\\pi_k$ 来计算状态值函数 $v^{\\pi_k}$。具体来说，我们通过解贝尔曼期望方程来更新价值函数：\n",
    "$$ v_{\\pi_{k}}^{(j+1)}(s) = \\sum_{a \\in \\cal A(s)} \\pi_k(a|s) \\left( \\sum_r p(r|s, a) r + \\gamma \\sum_{s' \\in \\cal S} p(s'|s, a) v_{\\pi_k}^{(j)}(s') \\right)  \\ \\ \\ j=1,2,... $$\n",
    "其中，$v_{\\pi_k}(s)$ 是第 $k$ 次迭代中状态 $s$ 的状态价值函数，$r$ 是在状态 $s$ 下采取动作 $a$ 的即时奖励，$p(s'|s, a)$ 是从状态 $s$ 采取动作 $a$ 转移到状态 $s'$ 的概率，$\\gamma$ 是折扣因子。\n",
    "#### Policy Improvement:\n",
    "在策略改进步骤中，改进的目标是求解$ \\pi_{k+1}(s) = \\arg\\max_{\\pi} (r_{\\pi} + \\gamma P_{\\pi} v^{\\pi_k}) $，其Element-wise 表示为：\n",
    "$$\n",
    "\\pi_{k+1}(s) = \\arg\\max_{\\pi} \\sum_{a \\in \\cal A(s)} \\pi (a|s) \\left (\\sum_{r \\in \\cal R(s'|s, a)} p(r|s, a) r + \\gamma \\sum_{s' \\in \\cal S} p(s'|s, a) v^{\\pi_k}(s') \\right )\n",
    "$$\n",
    "\n"
   ]
  },
  {
   "cell_type": "markdown",
   "metadata": {},
   "source": [
    "### Policy Iteration Algorithm\n",
    "* 对于所有状态动作对$(s, a)$环境模型的$p(r|s, a)$和$p(s'|s, a)$都已知，随机初始化$\\pi_0$\n",
    "* $while \\ v_{\\pi_k} - v_{\\pi_{k-1}} > \\epsilon$ do:\n",
    "* $\\qquad$ $Policy \\ Evaluation:$\n",
    "* $\\qquad$ 随机初始化$v_{\\pi_0}(s)$\n",
    "* $\\qquad$ $while \\ v_{\\pi_k}^{j+1} - v_{\\pi_k}^{j} > \\epsilon \\ do$:\n",
    "* $\\qquad\\qquad$ $for \\ s \\in \\cal S \\ do:$\n",
    "* $\\qquad\\qquad\\qquad$ $v_{\\pi_k}^{j+1}(s) \\leftarrow \\sum_{a \\in \\cal A(s)} \\pi_k (a|s) \\left (\\sum_{r \\in \\cal R(s'|s, a)} p(r|s, a) r + \\gamma \\sum_{s' \\in \\cal S} p(s'|s, a) v_{\\pi_k}^{j}(s') \\right )$\n",
    "* $\\qquad\\qquad$ $end \\ for$\n",
    "* $\\qquad$ $end \\ while$\n",
    "* $\\qquad$ $Policy \\ Improvement:$\n",
    "* $\\qquad$ $for \\ s \\in \\cal S \\ do:$\n",
    "* $\\qquad\\qquad$ $for \\ a \\in \\cal A(s) \\ do:$\n",
    "* $\\qquad\\qquad\\qquad$ $q_{\\pi_k}(s, a) \\leftarrow \\sum_{r \\in \\cal R(s'|s, a)} p(r|s, a) r + \\gamma \\sum_{s' \\in \\cal S} p(s'|s, a) v_{\\pi_k}(s')$\n",
    "* $\\qquad\\qquad$ $end \\ for$\n",
    "* $\\qquad\\qquad$ $a_k^*(s) \\leftarrow \\arg\\max_a q_k(s, a)$\n",
    "* $\\qquad\\qquad$ $\\pi_{k+1}(a|s) = 1 \\ if \\ a_k^*(s)=a, \\ else \\ 0$\n",
    "* $\\qquad$ $end \\ for$\n",
    "* $end \\ while$"
   ]
  }
 ],
 "metadata": {
  "kernelspec": {
   "display_name": "dl",
   "language": "python",
   "name": "python3"
  },
  "language_info": {
   "codemirror_mode": {
    "name": "ipython",
    "version": 3
   },
   "file_extension": ".py",
   "mimetype": "text/x-python",
   "name": "python",
   "nbconvert_exporter": "python",
   "pygments_lexer": "ipython3",
   "version": "3.11.10"
  }
 },
 "nbformat": 4,
 "nbformat_minor": 2
}
