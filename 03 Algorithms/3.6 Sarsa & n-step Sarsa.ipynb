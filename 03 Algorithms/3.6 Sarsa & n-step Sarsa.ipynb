{
 "cells": [
  {
   "metadata": {},
   "cell_type": "markdown",
   "source": "# 03 Algorithms",
   "id": "18a44b6c5d69b2b8"
  },
  {
   "metadata": {},
   "cell_type": "markdown",
   "source": "## 3.6 Sarsa & n-step Sarsa",
   "id": "3e7a409e17153f94"
  },
  {
   "metadata": {},
   "cell_type": "markdown",
   "source": [
    "### Sarsa\n",
    "既然可以使用Temporal-Difference算法来估计状态价值，那么也可以直接使用其来估计动作价值。这一点非常重要，因为可以将估计的动作价值与策略提升相结合，来学习最优策略。\n",
    "\n",
    "给定策略$\\pi$，我们的目标是：对于所有的$s \\in \\mathcal{S}$和动作$a \\in \\mathcal{A}(s)$，估计状态价值$q_{\\pi}(s, a)$。\n",
    "\n",
    "假设我们有遵循策略$\\pi$生成的样本集$ (s_0, a_0, r_1, s_1, a_1, r_2, s_2, ... ,s_t, a_t, r_{t+1}, s_{t+1}, a_{t+1}, ...) $，也可以表示为$\\{(s_i, a_i, r_{i+1}, s_{i+1})\\}^{T}_{i=0}$。\n",
    "\n",
    "Sarsa算法利用这些样本来估计动作价值:\n",
    "$$\n",
    "\\begin{cases}\n",
    "q_{t+1}(s_t, a_t) = q_t(s_t) - \\alpha_t(s_t, a_t)[q_t(s_t,a_t) - (r_{t+1} + \\gamma q_t(s_{t+1}, a_{t+1}))] & (s, t)=(s_t, a_t) \\\\\n",
    "q_{t+1}(s, a) = q_t(s, a) & (s, a) \\neq (s_t, a_t)\n",
    "\\end{cases}\n",
    "$$\n",
    "\n",
    "其中，$t=0,1,2,...$，$\\alpha_t(s_t, a_t)$是一个很小的正数，代表学习率。\n",
    "\n",
    "Sarsa的推导过程与Temporal-Difference类似，感兴趣的话可以回顾上一章节。"
   ],
   "id": "6dd8e472ff4f3b2"
  },
  {
   "metadata": {},
   "cell_type": "markdown",
   "source": "### Sarsa Algorithms\n",
   "id": "109d21a2ce25cea3"
  }
 ],
 "metadata": {
  "kernelspec": {
   "display_name": "Python 3",
   "language": "python",
   "name": "python3"
  },
  "language_info": {
   "codemirror_mode": {
    "name": "ipython",
    "version": 2
   },
   "file_extension": ".py",
   "mimetype": "text/x-python",
   "name": "python",
   "nbconvert_exporter": "python",
   "pygments_lexer": "ipython2",
   "version": "2.7.6"
  }
 },
 "nbformat": 4,
 "nbformat_minor": 5
}
