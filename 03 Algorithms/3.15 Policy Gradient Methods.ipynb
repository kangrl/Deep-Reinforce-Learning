{
 "cells": [
  {
   "cell_type": "markdown",
   "metadata": {},
   "source": [
    "# 03 Algorithms"
   ]
  },
  {
   "cell_type": "markdown",
   "metadata": {},
   "source": [
    "## 3.15 Policy Gradient Methods"
   ]
  },
  {
   "cell_type": "markdown",
   "metadata": {},
   "source": [
    "### Metrics of Policy\n",
    "\n",
    "在此之前，我们已经介绍了使用神经网络近似状态价值或动作价值的算法，如DQN。然而，在许多实际应用中，我们更关心的是如何学习到一个策略（policy），即从状态到动作的映射。这种情况下，我们可以使用策略梯度方法（Policy Gradient Methods）来直接对策略进行优化。\n",
    "\n",
    "假设$J(\\theta)$是一个标量，用于表示策略$\\pi$的性能度量，我们的目标是最大化这个目标函数。根据基于梯度的算法，我们可以通过以下公式更新参数$\\theta$：\n",
    "$$\n",
    "\\theta_{t+1} = \\theta_t + \\alpha \\nabla J(\\theta)\n",
    "$$\n",
    "\n",
    "一般地，策略的性能度量基于状态价值期望或奖励期望。这里我们对于这两种性能度量分别做以下定义：\n",
    "| Metric | Expression 1                | Expression 2             | Expression 3                                                                 |\n",
    "|--------|-----------------------------|--------------------------|------------------------------------------------------------------------------|\n",
    "| $ \\bar{v}_\\pi $ | $ \\sum_{s \\in S} d(s) v_\\pi(s) $ | $ E_{S \\sim d}[v_\\pi(S)] $  | $ \\lim_{n \\to \\infty} E \\left[ \\sum_{t=0}^{n} \\gamma^t R_{t+1} \\right] $  |\n",
    "| $ \\bar{r}_\\pi $ | $ \\sum_{s \\in S} d_\\pi(s) r_\\pi(s) $ | $ E_{S \\sim d_\\pi}[r_\\pi(S)] $ | $ \\lim_{n \\to \\infty} \\frac{1}{n} E \\left[ \\sum_{t=0}^{n-1} R_{t+1} \\right] $  |\n",
    "\n",
    "其中，$d(s)$ 是是状态$s$的权重，满足$d(s) \\geq 0$和$\\sum_{a \\in \\cal S}$=1，一般地可以定义为均匀分布（$d_0(s)=\\frac{1}{\\cal |S|}$）或平稳分布($d_{\\pi}^T P_{\\pi} = d_{\\pi}^T$，$P_{\\pi}$是状态转移矩阵)。\n",
    "\n",
    "上述所有指标都是策略$\\pi$的函数，而策略$\\pi$又被参数化表示为$\\theta$，因此我们可以将这些指标表示为$\\theta$的函数。简言之，不同的参数$\\theta$对应着不同的指标值.\n",
    "\n",
    "另外，状态价值期望$\\bar v_{\\pi}$和奖励期望$\\bar r_{\\pi}$之间的关系可以表示如下：\n",
    "$$ \\bar r_{\\pi} = (1 - \\gamma) \\bar v_{\\pi} $$\n",
    "\n",
    "\n",
    "\n",
    "\n",
    "\n",
    "\n",
    "\n",
    "\n",
    "\n",
    "\n",
    "\n"
   ]
  },
  {
   "cell_type": "markdown",
   "metadata": {},
   "source": [
    "### Gradients of the Metrics\n",
    "\n",
    "令\n",
    "$$\n",
    "J(\\theta) = \\sum_{s \\in \\cal S} \\eta (s) v_{\\pi}(s) = \\sum_{s \\in \\cal S} \\eta (s) \\sum_{a \\in \\cal A} \\pi(a|s;\\theta) q_{\\pi}(s, a)\n",
    "$$\n",
    "其中$\\eta(s)$是平稳分布，$v_{\\pi}(s)$是状态价值函数、$q_{\\pi}(s, a)$是动作价值函数、$\\pi(a|s;\\theta)$是策略函数。\n",
    "\n",
    "对于这个目标函数$J(\\theta)$，我们可以计算它的梯度：\n",
    "$$\n",
    "\\nabla_{\\theta} J(\\theta) = \\sum_{s \\in \\cal S} \\eta (s) \\left( \\sum_{a \\in \\cal A} q_{\\pi}(s, a) \\nabla_{\\theta} \\pi(a|s;\\theta) \\right)  \\ \\ \\ \\ \\  *\n",
    "$$\n",
    "\n",
    "进一步地，由\n",
    "$$\n",
    "\\nabla_{\\theta} \\log \\pi(a|s;\\theta) = \\frac{\\nabla_{\\theta} \\pi(a|s;\\theta)}{\\pi(a|s;\\theta)}\n",
    "$$\n",
    "知：\n",
    "$$\n",
    "\\nabla_{\\theta} \\pi(a|s;\\theta) = \\nabla_{\\theta} \\log \\pi(a|s;\\theta) \\pi(a|s;\\theta)\n",
    "$$\n",
    "\n",
    "代入(*)式中，得：\n",
    "$$\n",
    "\\begin{aligned}\n",
    "\\nabla_{\\theta} J(\\theta) &= \\sum_{s \\in \\cal S} \\eta (s) \\left( \\sum_{a \\in \\cal A} q_{\\pi}(s, a) \\nabla_{\\theta} \\log \\pi(a|s;\\theta) \\pi(a|s;\\theta) \\right) \\\\\n",
    "&= \\mathbb{E}_{S \\sim \\eta, A \\sim \\pi(S, \\theta)} \\Big[q_{\\pi}(S, A) \\nabla_{\\theta} \\log \\pi(A|S;\\theta) \\Big]\n",
    "\\end{aligned}\n",
    "$$\n",
    "\n",
    "为了保证$\\log \\pi(A|S;\\theta)$的有效，我们使用$softmax \\ functions$：\n",
    "$$\n",
    "\\pi(a|s;\\theta) = \\frac{e^{h(s,a,\\theta)}}{\\sum_{a' \\in \\cal A(s)} e^{h(s,a,\\theta)}}\n",
    "$$\n",
    "\n",
    "\n"
   ]
  },
  {
   "cell_type": "markdown",
   "metadata": {},
   "source": [
    "### Monte Carlo Policy Gradient (REINFORCE)\n",
    "\n",
    "REINFORCE算法是一种策略梯度方法，它通过采样得到的轨迹来估计策略梯度。其更新规则如下：\n",
    "$$\n",
    "\\begin{aligned}\n",
    "\\theta_{t+1} &= \\theta_t + \\alpha \\nabla_{\\theta} J(\\theta_t) \\\\\n",
    "&= \\theta_t + \\alpha \\mathbb{E} \\Big[q_{\\pi}(S, A) \\nabla_{\\theta} \\log \\pi(A|S;\\theta) \\Big]\n",
    "\\end{aligned}\n",
    "$$\n",
    "使用随机梯度法进行估计，可以得到：\n",
    "$$\n",
    "\\theta_{t+1} = \\theta_t + \\alpha \\nabla_{\\theta} \\log \\pi(a_t|s_t;\\theta_t) q_{t}(s_t, a_t) \\ \\ **\n",
    "$$\n",
    "\n",
    "由于：\n",
    "$$\n",
    "\\nabla_{\\theta} \\log \\pi(a|s;\\theta) = \\frac{\\nabla_{\\theta} \\pi(a|s;\\theta)}{\\pi(a|s;\\theta)}\n",
    "$$\n",
    "所以，可以对式(**)进行重新变换：\n",
    "$$\n",
    "\\begin{aligned}\n",
    "\\theta_{t+1} &= \\theta_t + \\alpha \\left(\\frac{q_t(s_t,a_t)}{\\pi(a_t|s_t;\\theta_t)} \\right) \\nabla_{\\theta} \\pi(a|s;\\theta) \\\\\n",
    "&= \\theta_t + \\alpha \\beta_t \\nabla_{\\theta} \\pi(a|s;\\theta)\n",
    "\\end{aligned}\n",
    "$$\n",
    "\n",
    "其中，$\\beta_t = \\frac{q_t(s_t,a_t)}{\\pi(a_t|s_t;\\theta_t)}$。\n",
    "\n",
    "当$\\beta_t \\geq 0$，$\\pi(a_t|s_t;\\theta_{t+1}) \\geq \\pi(a_t|s_t;\\theta_{t})$，选择$(s_t,a_t)$的可能性增强；\n",
    "\n",
    "相反，当$\\beta_t < 0$，$\\pi(a_t|s_t;\\theta_{t+1}) < \\pi(a_t|s_t;\\theta_{t})$，选择$(s_t,a_t)$的可能性减弱。"
   ]
  },
  {
   "cell_type": "markdown",
   "metadata": {},
   "source": [
    "### Monte Carlo Policy Gradient (REINFORCE) Algorithm\n",
    "目标：学习一个最优策略$\\pi_{\\theta}(a|s)$，使得期望回报$J(\\theta)$最大化\n",
    "\n",
    "- 初始化策略网络参数$\\theta$、折扣因子$\\gamma$和步长$\\alpha$\n",
    "- $for \\ e = 1 \\rightarrow E \\ do$：\n",
    "    - 根据当前策略$\\pi_{\\theta}(a|s)$采样轨迹$\\tau = (s_0, a_0, r_1, ..., s_{T-1}, a_{T-1}, r_T)$，其中$r_t = r(s_t, a_t)$\n",
    "    - $for t=0,1,\\cdots, T-1 \\ do$\n",
    "        - Value Update：$q_t(s_t, a_t)=\\sum_{k={t+1}}^T \\gamma^{k-t-1} r_k$\n",
    "        - Policy Update：$\\theta_{t+1} = \\theta_t + \\alpha \\nabla_{\\theta} \\log \\pi(a_t|s_t;\\theta_t) q_{t}(s_t, a_t)$"
   ]
  },
  {
   "cell_type": "markdown",
   "metadata": {},
   "source": [
    "### 一条非常重要的说明\n",
    "\n",
    "对于Policy Update部分，编码实现时是通过构造一个损失函数，然后通过梯度下降的方法来更新参数的。具体来说，损失函数是:\n",
    "$$\n",
    "L(\\theta_t) = -\\log \\pi(a_t|s_t;\\theta_t) q_{t}(s_t, a_t)\n",
    "$$\n",
    "\n",
    "**为什么要做这样的设计？**\n",
    "\n",
    "- 主流框架搭多是为监督学习设计的，这些框架搭多使用梯度下降，而强化学习的目标是最大化期望回报，为了方便使用这些框架和梯度下降，定义损失函数为$L(\\theta)=-J(\\theta)$，然后使用梯度下降的方法来最大化$J(\\theta)$；\n",
    "- 使用策略梯度替代loss在某种程度上衡量了两个分布（agent与环境交互产生轨迹获得的reward分布，和策略网络输出的分布）的距离，形式上与交叉熵损失函数类似。"
   ]
  },
  {
   "cell_type": "markdown",
   "metadata": {},
   "source": [
    "### Example"
   ]
  },
  {
   "cell_type": "code",
   "execution_count": 1,
   "metadata": {},
   "outputs": [],
   "source": [
    "import sys\n",
    "import time\n",
    "sys.path.append('..')\n",
    "\n",
    "import torch\n",
    "import torch.nn as nn\n",
    "import numpy as np\n",
    "import gymnasium as gym\n",
    "from tqdm import tqdm\n",
    "\n",
    "from Utils.tools import get_device, plot_returns_curve"
   ]
  },
  {
   "cell_type": "code",
   "execution_count": 2,
   "metadata": {},
   "outputs": [],
   "source": [
    "class PolicyNetwork(nn.Module):\n",
    "    \"\"\" Policy Network \"\"\"\n",
    "\n",
    "    def __init__(self, state_dim, hidden_dim, action_dim):\n",
    "        super(PolicyNetwork, self).__init__()\n",
    "\n",
    "        self.fc1 = nn.Linear(state_dim, hidden_dim)\n",
    "        self.fc2 = nn.Linear(hidden_dim, hidden_dim)\n",
    "        self.fc3 = nn.Linear(hidden_dim, action_dim)\n",
    "\n",
    "    def forward(self, x):\n",
    "        x = nn.functional.relu(self.fc1(x))\n",
    "        x = nn.functional.relu(self.fc2(x))\n",
    "        return nn.functional.softmax(self.fc3(x), dim=1)"
   ]
  },
  {
   "cell_type": "code",
   "execution_count": 3,
   "metadata": {},
   "outputs": [],
   "source": [
    "class REINFORCE:\n",
    "    \"\"\" Monte Carlo Methods \"\"\"\n",
    "\n",
    "    def __init__(self, env, state_dim, hidden_dim, action_dim, learning_rate=0.001, gamma=0.99, device=None):\n",
    "        self.env = env\n",
    "        self.gamma = gamma\n",
    "\n",
    "        if device is None:\n",
    "            device = get_device()\n",
    "        self.device = device\n",
    "\n",
    "        self.policy_net = PolicyNetwork(state_dim, hidden_dim, action_dim).to(self.device)\n",
    "        self.optimizer = torch.optim.Adam(self.policy_net.parameters(), lr=learning_rate)\n",
    "        self.criterion = nn.MSELoss()\n",
    "\n",
    "        self.returns = []\n",
    "\n",
    "    def take_action(self, state):\n",
    "        \"\"\" Take action according to the policy network \"\"\"\n",
    "        # Convert state to tensor\n",
    "        state = torch.tensor(np.array([state]), dtype=torch.float32).to(self.device)\n",
    "        # Get action probabilities from the policy network\n",
    "        action_probs = self.policy_net(state)\n",
    "        # Sample an action according to the action probabilities\n",
    "        action_dist = torch.distributions.Categorical(action_probs)\n",
    "        action = action_dist.sample()\n",
    "        return action.item()\n",
    "\n",
    "    def generate_episode(self, state):\n",
    "        episode = []\n",
    "        done = False\n",
    "        while not done:\n",
    "            action = self.take_action(state)\n",
    "            next_state, reward, terminated, truncated, info = self.env.step(action)\n",
    "\n",
    "            done = terminated or truncated\n",
    "            episode.append((state, action, reward, next_state, done))\n",
    "            state = next_state\n",
    "        return episode\n",
    "\n",
    "    def update(self, episode):\n",
    "        \"\"\" Update policy network using an episode \"\"\"\n",
    "\n",
    "        # Initialize the q value\n",
    "        episode_return = 0\n",
    "        self.optimizer.zero_grad()\n",
    "        for state, action, reward, next_state, done  in reversed(episode):\n",
    "            # Update the q value\n",
    "            episode_return = reward + self.gamma * episode_return\n",
    "            # Convert to tensor\n",
    "            state = torch.tensor(np.array([state]), dtype=torch.float32).to(self.device)\n",
    "            action = torch.tensor(np.array([action])).view(-1, 1).to(self.device)\n",
    "\n",
    "            # Compute policy gradient\n",
    "            action_probs = self.policy_net(state)\n",
    "            log_probs = torch.log(action_probs.gather(1, action))\n",
    "            loss = -log_probs * episode_return  # Why loss is negative of log probability?\n",
    "            loss.backward()\n",
    "        # Update the policy network\n",
    "        self.optimizer.step()\n",
    "\n",
    "        return episode_return\n",
    "\n",
    "    def train(self, epochs):\n",
    "        \"\"\" Train the agent using episodes generated by rollout \"\"\"\n",
    "\n",
    "        for i in range(10):\n",
    "            with tqdm(total=epochs // 10, desc=f\"Iteration {i+1}\") as pbar:\n",
    "                for epoch in range(epochs // 10):\n",
    "                    state, info = self.env.reset()\n",
    "\n",
    "                    episode = self.generate_episode(state)\n",
    "                    episode_return = self.update(episode)\n",
    "\n",
    "                    self.returns.append(episode_return)\n",
    "                    if (epoch + 1) % 10 == 0:\n",
    "                        pbar.set_postfix(\n",
    "                            {\n",
    "                                'epoch': epochs / 10 * i + epoch + 1,\n",
    "                                'return': np.mean(self.returns)\n",
    "                            }\n",
    "                        )\n",
    "                    pbar.update(1)\n",
    "\n",
    "    def visualize(self, delay=0.5):\n",
    "        state, info = self.env.reset()\n",
    "        done = False\n",
    "\n",
    "        while not done:\n",
    "            # self.env.render()\n",
    "            action = self.take_action(state)\n",
    "            state, reward, terminated, truncated, info = self.env.step(action)\n",
    "            done = terminated or truncated\n",
    "            time.sleep(delay)\n",
    "\n",
    "        # self.env.render()\n",
    "        self.env.close()"
   ]
  },
  {
   "cell_type": "code",
   "execution_count": 4,
   "metadata": {},
   "outputs": [],
   "source": [
    "name = 'CartPole-v1'\n",
    "environment = gym.make(name, render_mode='rgb_array')"
   ]
  },
  {
   "cell_type": "code",
   "execution_count": 5,
   "metadata": {},
   "outputs": [],
   "source": [
    "agent = REINFORCE(\n",
    "    env=environment,\n",
    "    state_dim=environment.observation_space.shape[0],\n",
    "    action_dim=environment.action_space.n,\n",
    "    hidden_dim=64,\n",
    "    learning_rate=0.0005,\n",
    "    gamma=0.98,\n",
    "    device=get_device()\n",
    ")"
   ]
  },
  {
   "cell_type": "code",
   "execution_count": 6,
   "metadata": {},
   "outputs": [
    {
     "name": "stderr",
     "output_type": "stream",
     "text": [
      "Iteration 1:   0%|          | 0/100 [00:00<?, ?it/s]"
     ]
    },
    {
     "name": "stderr",
     "output_type": "stream",
     "text": [
      "Iteration 1: 100%|██████████| 100/100 [00:11<00:00,  8.80it/s, epoch=100, return=19.6]\n",
      "Iteration 2: 100%|██████████| 100/100 [00:13<00:00,  7.53it/s, epoch=200, return=21] \n",
      "Iteration 3: 100%|██████████| 100/100 [00:21<00:00,  4.75it/s, epoch=300, return=23.7]\n",
      "Iteration 4: 100%|██████████| 100/100 [00:42<00:00,  2.36it/s, epoch=400, return=27.7]\n",
      "Iteration 5: 100%|██████████| 100/100 [01:02<00:00,  1.60it/s, epoch=500, return=31.1]\n",
      "Iteration 6: 100%|██████████| 100/100 [01:50<00:00,  1.10s/it, epoch=600, return=34.1]\n",
      "Iteration 7: 100%|██████████| 100/100 [01:05<00:00,  1.54it/s, epoch=700, return=35.9]\n",
      "Iteration 8: 100%|██████████| 100/100 [01:54<00:00,  1.14s/it, epoch=800, return=37.6]\n",
      "Iteration 9: 100%|██████████| 100/100 [01:00<00:00,  1.65it/s, epoch=900, return=38.7]\n",
      "Iteration 10: 100%|██████████| 100/100 [02:20<00:00,  1.40s/it, epoch=1e+3, return=39.8]\n"
     ]
    }
   ],
   "source": [
    "agent.train(\n",
    "    epochs=1000\n",
    ")"
   ]
  },
  {
   "cell_type": "code",
   "execution_count": 7,
   "metadata": {},
   "outputs": [
    {
     "name": "stderr",
     "output_type": "stream",
     "text": [
      "2025-02-23 19:55:35.211 python[75487:25372453] +[IMKClient subclass]: chose IMKClient_Modern\n",
      "2025-02-23 19:55:35.211 python[75487:25372453] +[IMKInputSession subclass]: chose IMKInputSession_Modern\n"
     ]
    }
   ],
   "source": [
    "environment = gym.make(name, render_mode='human')\n",
    "environment.reset()\n",
    "\n",
    "agent.env = environment\n",
    "agent.visualize(delay=0)"
   ]
  },
  {
   "cell_type": "code",
   "execution_count": 8,
   "metadata": {},
   "outputs": [
    {
     "data": {
      "image/png": "[encoded data removed]",
      "text/plain": [
       "<Figure size 640x480 with 1 Axes>"
      ]
     },
     "metadata": {},
     "output_type": "display_data"
    }
   ],
   "source": [
    "plot_returns_curve(agent.returns, name=name)"
   ]
  }
 ],
 "metadata": {
  "kernelspec": {
   "display_name": "dl",
   "language": "python",
   "name": "python3"
  },
  "language_info": {
   "codemirror_mode": {
    "name": "ipython",
    "version": 3
   },
   "file_extension": ".py",
   "mimetype": "text/x-python",
   "name": "python",
   "nbconvert_exporter": "python",
   "pygments_lexer": "ipython3",
   "version": "3.11.10"
  }
 },
 "nbformat": 4,
 "nbformat_minor": 2
}
