{
 "cells": [
  {
   "cell_type": "markdown",
   "metadata": {},
   "source": [
    "# 03 Algorithms"
   ]
  },
  {
   "cell_type": "markdown",
   "metadata": {},
   "source": [
    "## 3.1 Value Iteration"
   ]
  },
  {
   "cell_type": "markdown",
   "metadata": {},
   "source": [
    "### The Matrix-Vector form of Value Iteration\n",
    "根据Bellman Optimal Equation，我们需要解决如下最优方程：\n",
    "$$\n",
    "v = f(v) \\overset{\\cdot}= \\max_{\\pi \\in \\prod}(r_{\\pi} + \\gamma P_{\\pi} v)\n",
    "$$\n",
    "\n",
    "并且我们给出了求解从任意$v_0$开始，进行价值迭代的公式：\n",
    "$$\n",
    "v_{k+1} = f(v_k) = \\max_{\\pi \\in \\prod}(r_{\\pi} + \\gamma P_{\\pi} v_k), \\ \\ \\ k=0,1,2,...\n",
    "$$\n",
    "这一迭代过程，被称为价值迭代（Value Iteration）。\n",
    "**Value Iteration** 算法是强化学习一个很重要的基础算法，其在每一次迭代过程有两个重要的步骤：\n",
    "- **Plolicy Update(PU)：** 目标是寻找一个策略能够解决如下最优化问题$$\n",
    "\\pi_{k+1} = \\arg \\max (r_{\\pi} + \\gamma P_{\\pi}v_k)$$，其中$v_k$是当前已迭代的状态价值；\n",
    "- **Value Update(VU)：** 计算新的状态价值$v_{k+1}$通过价值迭代公式$$v_{k+1}=r_{\\pi_{k+1}} + \\gamma P_{\\pi_{k+1}} v_k$$"
   ]
  },
  {
   "cell_type": "markdown",
   "metadata": {},
   "source": [
    "### The Elementwise form of Value Iteration\n",
    "#### **Policy Update**\n",
    "在某状态$s$下的时间步$k$，Policy Update(PU) $\n",
    "\\pi_{k+1} = \\arg \\max (r_{\\pi} + \\gamma P_{\\pi}v_k)$的元素形式可以表示为：\n",
    "$$\n",
    "\\pi_{k+1}(s) = \\arg \\max_{\\pi} \\sum_{a \\in \\cal A(s)} \\pi(a|s) \\Big( \\sum_{r \\in R(s, a)} p(r|s, a)r + \\gamma \\sum_{s' \\in S} p(s'|s, a) v_{k} (s') \\Big)\n",
    "$$\n",
    "\n",
    "由之前的介绍可知，上式的的最优解如下：\n",
    "$$\n",
    "\\begin{cases}\n",
    "\\pi_{k+1}(a|s) = 1, & a=a_{k}^*(s) \\\\\n",
    "0, & a\\neq a_{k}^*(s)\n",
    "\\end{cases}\n",
    "$$\n",
    "其中，$a_{k}^*(s)=\\arg \\max_{a \\in \\cal A(s)} q_k (s, a)$, $$\\sum_{r \\in R(s, a)} p(r|s, a)r + \\gamma \\sum_{s' \\in S} p(s'|s, a) v_{k} (s')$$\n",
    "\n",
    "#### Value Update\n",
    "在某状态$s$下的时间步$k$，Value Update $v_{k+1}=r_{\\pi_{k+1}} + \\gamma P_{\\pi_{k+1}} v_k$的元素形式可以表示为：\n",
    "$$\n",
    "v_{k+1}(s) = \\arg \\max_{\\pi} \\sum_{a \\in \\cal A(s)} \\pi(a|s) \\Big( \\sum_{r \\in R(s, a)} p(r|s, a)r + \\gamma \\sum_{s' \\in S} p(s'|s, a) v_{k} (s') \\Big)\n",
    "$$\n",
    "\n",
    "由Policy Update的最优解可知：\n",
    "$$\n",
    "v_{k+1}(s) = \\max_{a \\in \\cal A(s)} q_k (s, a)\n",
    "$$\n",
    "\n",
    "至此，值迭代算法可以被下面的链描述：\n",
    "$$v_k (s) \\rightarrow q_k (s, a) \\rightarrow \\pi_{k+1} (s) \\rightarrow v_{k+1} (s) = \\max_{a \\in \\cal A(s)} q_k (s, a)$$"
   ]
  },
  {
   "cell_type": "markdown",
   "metadata": {},
   "source": [
    "### Value Iteration Algorithm：\n",
    "* 对于所有状态动作对$(s, a)$环境模型的$p(r|s, a)$和$p(s'|s, a)$都已知，随机初始化$v(s)$\n",
    "* $while \\ \\delta > \\epsilon$ do:\n",
    "* $\\qquad$ $\\delta \\leftarrow 0$\n",
    "* $\\qquad$ $for \\ each \\ s \\ in \\ S \\ do$:\n",
    "* $\\qquad\\qquad$ $for \\ each \\ a \\ in \\ \\cal A(s) \\ do$:\n",
    "* $\\qquad\\qquad\\qquad$ $q_k(s, a) \\leftarrow \\sum_r p(r|s,a)r + \\gamma \\sum_{s'} p(s'|s, a)v(s')$\n",
    "* $\\qquad\\qquad$ $end \\ for$\n",
    "* $\\qquad\\qquad$ $a_k^*(s) \\leftarrow \\arg\\max_a q_k(s, a)$\n",
    "* $\\qquad\\qquad$ Policy Update: $\\pi_{k+1}(a|s) = 1$ if $a_k^*(s)=a$, else $0$\n",
    "* $\\qquad\\qquad$ Value Update: $v_{k+1}(s) \\leftarrow \\max_a q_k(s, a)$\n",
    "* $\\qquad$ $end \\ for$\n",
    "* $\\qquad$ $\\delta \\leftarrow \\max(\\delta, |v_k(s) - v_{k+1}(s)|)$\n",
    "* $end \\ while$"
   ]
  },
  {
   "cell_type": "markdown",
   "metadata": {},
   "source": [
    "### Example"
   ]
  },
  {
   "cell_type": "code",
   "execution_count": 1,
   "metadata": {},
   "outputs": [],
   "source": [
    "import os\n",
    "import sys\n",
    "import time\n",
    "sys.path.append(\"..\")\n",
    "\n",
    "import numpy as np\n",
    "import matplotlib.pyplot as plt\n",
    "\n",
    "from Utils.gridworld.examples.arguments import args\n",
    "from Utils.gridworld.src.grid_world import GridWorld\n"
   ]
  },
  {
   "cell_type": "code",
   "execution_count": 2,
   "metadata": {},
   "outputs": [],
   "source": [
    "class ValueIteration:\n",
    "    \"\"\" Value Iteration Algorithm for Grid World \"\"\"\n",
    "\n",
    "    def __init__(self, env, gamma=0.95, delta=1e-3):\n",
    "        self.env = env\n",
    "        self.gamma = gamma\n",
    "        self.delta = delta\n",
    "\n",
    "        self.values = np.zeros(env.num_states)  # Value function initialization\n",
    "        self.policy = np.zeros((env.num_states, len(env.action_space)))  # Policy initialization\n",
    "\n",
    "\n",
    "    def policy_update(self, q_values):\n",
    "        \"\"\" Update the policy using Greedy \"\"\"\n",
    "\n",
    "        policy = [0] * len(self.env.action_space)\n",
    "        best_action_idx = np.argmax(q_values)  # Get the index of the best action (greedy policy)\n",
    "\n",
    "        policy[best_action_idx] = 1.0  # Set the best action probability to 1.0\n",
    "\n",
    "        return np.array(policy)  # Return the updated\n",
    "\n",
    "    def value_update(self, q_values):\n",
    "        \"\"\" Update the values using Greedy \"\"\"\n",
    "\n",
    "        return max(q_values)\n",
    "\n",
    "    def __get_position(self, state_number):\n",
    "        \"\"\" Get position from state \"\"\"\n",
    "\n",
    "        x = state_number % self.env.env_size[0]\n",
    "        y = state_number // self.env.env_size[0]\n",
    "\n",
    "        return x, y\n",
    "\n",
    "    def __get_state_number(self, state):\n",
    "        \"\"\" Get state number from state tuple \"\"\"\n",
    "\n",
    "        return state[0] * self.env.env_size[0] + state[1]\n",
    "\n",
    "    def run(self):\n",
    "        while True:\n",
    "            delta = 0\n",
    "            values = np.zeros(self.env.num_states)\n",
    "            for state_number, action_probabilities in enumerate(self.policy):\n",
    "                q_values = []\n",
    "                state = self.__get_position(state_number)\n",
    "                for action in self.env.action_space:\n",
    "                    next_state, reward = self.env.get_next_state_and_reward(state, action)\n",
    "                    next_state_number = self.__get_state_number(next_state)\n",
    "                    q_values.append(self.values[next_state_number] * self.gamma + reward)\n",
    "\n",
    "                self.policy[state_number] = self.policy_update(q_values)  # Update the policy using greedy method\n",
    "                values[state_number] = self.value_update(q_values)  # Update the value using greedy method\n",
    "\n",
    "                delta = max(delta, abs(self.values[state_number] - values[state_number]))  # Update delta\n",
    "            self.values = values\n",
    "            if delta < self.delta: break  # Check for convergence"
   ]
  },
  {
   "cell_type": "code",
   "execution_count": 3,
   "metadata": {},
   "outputs": [
    {
     "data": {
      "text/plain": [
       "((0, 0), {})"
      ]
     },
     "execution_count": 3,
     "metadata": {},
     "output_type": "execute_result"
    }
   ],
   "source": [
    "env = GridWorld()\n",
    "env.reset()"
   ]
  },
  {
   "cell_type": "code",
   "execution_count": 4,
   "metadata": {},
   "outputs": [
    {
     "name": "stdout",
     "output_type": "stream",
     "text": [
      "Values: [27.98117299 32.20120928 32.20120928 42.10120928 32.20120928 27.98117299\n",
      " 36.89117299 42.10120928 42.10120928 42.10120928 36.89117299 36.89117299\n",
      " 47.89117299 42.10120928 42.10120928 36.89117299 47.89117299 47.89117299\n",
      " 47.89117299 42.10120928 36.89117299 36.89117299 47.89117299 36.89117299\n",
      " 36.89117299]\n",
      "Policy: [[1. 0. 0. 0. 0.]\n",
      " [0. 1. 0. 0. 0.]\n",
      " [0. 1. 0. 0. 0.]\n",
      " [1. 0. 0. 0. 0.]\n",
      " [1. 0. 0. 0. 0.]\n",
      " [1. 0. 0. 0. 0.]\n",
      " [1. 0. 0. 0. 0.]\n",
      " [0. 1. 0. 0. 0.]\n",
      " [1. 0. 0. 0. 0.]\n",
      " [1. 0. 0. 0. 0.]\n",
      " [1. 0. 0. 0. 0.]\n",
      " [0. 0. 0. 0. 1.]\n",
      " [1. 0. 0. 0. 0.]\n",
      " [0. 1. 0. 0. 0.]\n",
      " [0. 0. 0. 1. 0.]\n",
      " [0. 0. 0. 0. 1.]\n",
      " [0. 1. 0. 0. 0.]\n",
      " [0. 0. 0. 0. 1.]\n",
      " [0. 0. 0. 1. 0.]\n",
      " [0. 0. 1. 0. 0.]\n",
      " [0. 0. 1. 0. 0.]\n",
      " [0. 1. 0. 0. 0.]\n",
      " [0. 0. 1. 0. 0.]\n",
      " [0. 0. 0. 1. 0.]\n",
      " [0. 0. 0. 1. 0.]]\n"
     ]
    }
   ],
   "source": [
    "agent = ValueIteration(env, gamma=0.9, delta=1e-3)\n",
    "agent.run()\n",
    "print(\"Values:\", agent.values)\n",
    "print(\"Policy:\", agent.policy)"
   ]
  },
  {
   "cell_type": "code",
   "execution_count": 5,
   "metadata": {},
   "outputs": [
    {
     "data": {
      "image/png": "[encoded data removed]",
      "text/plain": [
       "<Figure size 640x480 with 1 Axes>"
      ]
     },
     "metadata": {},
     "output_type": "display_data"
    },
    {
     "data": {
      "text/plain": [
       "<Figure size 640x480 with 0 Axes>"
      ]
     },
     "metadata": {},
     "output_type": "display_data"
    }
   ],
   "source": [
    "env.render()\n",
    "env.add_policy(agent.policy)\n",
    "env.add_state_values(agent.values)\n",
    "env.render(animation_interval=2)\n",
    "time.sleep(3)"
   ]
  }
 ],
 "metadata": {
  "kernelspec": {
   "display_name": "dl",
   "language": "python",
   "name": "python3"
  },
  "language_info": {
   "codemirror_mode": {
    "name": "ipython",
    "version": 3
   },
   "file_extension": ".py",
   "mimetype": "text/x-python",
   "name": "python",
   "nbconvert_exporter": "python",
   "pygments_lexer": "ipython3",
   "version": "3.11.10"
  }
 },
 "nbformat": 4,
 "nbformat_minor": 2
}
