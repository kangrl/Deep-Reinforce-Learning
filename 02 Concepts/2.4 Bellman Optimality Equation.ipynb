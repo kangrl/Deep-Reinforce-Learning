{
 "cells": [
  {
   "cell_type": "markdown",
   "metadata": {},
   "source": [
    "# 2 Concepts"
   ]
  },
  {
   "cell_type": "markdown",
   "metadata": {},
   "source": [
    "## 2.4 Bellman Optimality Equation"
   ]
  },
  {
   "cell_type": "markdown",
   "metadata": {},
   "source": [
    "### Motivating Example\n",
    "<center>\n",
    "<img src=\"../Images/demonstrating-policy-improvement.png\" alt=\"An Example for Demonstrating Policy Improvement\">\n",
    "</center>\n",
    "\n",
    "如图所示：当前策略不是一个“好”的策略，因为它在状态$s_1$时选择了动作$a_2$而不是$a_3$。\n",
    "\n",
    "**如何对当前策略进行改进？**\n",
    "\n",
    "首先，我们根据计算各个状态的价值：\n",
    "$$\n",
    "v_{\\pi}(s_1) = -1 + \\gamma v_{\\pi}(s_2) = -1 + \\frac{0.9}{1-0.9} = 8 \\\\\n",
    "v_{\\pi}(s_2) = +1 + \\gamma v_{\\pi}(s_4) = +1 + \\frac{0.9}{1-0.9} = 10 \\\\\n",
    "v_{\\pi}(s_3) = +1 + \\gamma v_{\\pi}(s_4) = +1 + \\frac{0.9}{1-0.9} = 10\\\\\n",
    "v_{\\pi}(s_4) = +1 + \\gamma v_{\\pi}(s_4) = +1 + \\frac{0.9}{1-0.9} = 10\\\\\n",
    "$$\n",
    "\n",
    "接着计算状态$s_1$可能采取的动作对应的动作价值：\n",
    "$$\n",
    "q_{\\pi}(s_1, a_1) = -1 + \\gamma v_{\\pi}(s_1) = -1 + \\gamma 8 = 6.2 \\\\\n",
    "q_{\\pi}(s_1, a_2) = -1 + \\gamma v_{\\pi}(s_2) = -1 + \\gamma 10 = 8 \\\\\n",
    "q_{\\pi}(s_1, a_3) = -1 + \\gamma v_{\\pi}(s_3) = 0 + \\gamma 10 = 9 \\\\\n",
    "q_{\\pi}(s_1, a_4) = -1 + \\gamma v_{\\pi}(s_4) = -1 + \\gamma 10 = 8 \\\\\n",
    "q_{\\pi}(s_1, a_5) = -1 + \\gamma v_{\\pi}(s_1) = 0 + \\gamma 8 = 7.2 \\\\\n",
    "$$\n",
    "\n",
    "**Policy Improvement:** 因为$q_{\\pi}(s_1, a_3) \\geq q_{\\pi}(s_1, a_i), \\ \\ i \\neq 3$,故动作$a_3$更好，因此策略更新在状态$s_1$时选择动作$a_3$。\n",
    "\n",
    "**这个示例过程是许多强化学习算法的核心思想：先计算各个状态的价值，并根据价值计算各个状态可能采取的动作对应的动作价值，选择动作价值最大的动作来更新各状态下的策略。**"
   ]
  },
  {
   "cell_type": "markdown",
   "metadata": {},
   "source": [
    "### Optimal State Values and Optimal Policies\n",
    "强化学习的核心目标是：得到最优策略。\n",
    "\n",
    "通常我们使用状态价值来评价策略好坏，对于给定的两个策略$\\pi_1$和$\\pi_2$，如果满足:\n",
    "$$v_{\\pi_1}(s) \\geq v_{\\pi_2}(s), \\ \\ \\ \\ \\forall s \\in \\cal S $$\n",
    "那么认为策略$\\pi_1$是优于策略$\\pi_2$的。\n",
    "\n",
    "如果存在一个策略$\\pi^*$，在任意状态$s$和任意策略$\\pi$上都有\n",
    "$$v_{\\pi^*}(s) \\geq v_{\\pi}(s), \\ \\ \\ \\ \\forall s \\in \\cal S $$\n",
    "那么称$\\pi^*$是最优策略，最优策略对应的状态价值是最优状态价值。\n",
    "\n",
    "换句话说：**最优策略与其他策略相比，在任意状态下具有最大的状态价值。**"
   ]
  },
  {
   "cell_type": "markdown",
   "metadata": {},
   "source": [
    "### Bellman Optimality Equation (BOE)\n",
    "对于$\\forall s \\in \\cal S$，Bellman Optimality Equation (BOE)为：\n",
    "$$\n",
    "\\begin{aligned}\n",
    "v_{\\pi}(s) &= \\max_{\\pi(s) \\in \\prod (s)} \\sum_{a \\in \\cal A(s)} \\pi(a|s) \\Big [\\sum_{r \\in R(s, a)} p(r | s, a) r + \\gamma \\sum_{s' \\in \\cal S} p(s' | s, a) v_{\\pi}(s') \\Big] \\\\\n",
    "&= \\max_{\\pi(s) \\in \\prod (s)} \\sum_{a \\in \\cal A(s)} \\pi(a|s) q(s, a)\n",
    "\\end{aligned}\n",
    "$$\n",
    "\n",
    "其中，$v_{\\pi}(s)$和$v_{\\pi}(s')$是要求解的变量；$\\pi(s)$是状态$s$的策略，而$\\prod (s)$是所有可能的策略的集合；动作价值函数表示如下：\n",
    "$$\n",
    "q(s,a) \\overset{\\cdot}= \\sum_{r \\in R(s, a)} p(r | s, a) r + \\gamma \\sum_{s' \\in \\cal S} p(s' | s, a) v_{\\pi}(s')\n",
    "$$"
   ]
  },
  {
   "cell_type": "markdown",
   "metadata": {},
   "source": [
    "### Theoretical Analysis of the Solution to Bellman Optimality Equation\n",
    "Bellman Optimality Equation如下：\n",
    "$$\n",
    "\\begin{aligned}\n",
    "v_{\\pi}(s) &= \\max_{\\pi(s) \\in \\prod (s)} \\sum_{a \\in \\cal A(s)} \\pi(a|s) q(s, a)\n",
    "\\end{aligned}\n",
    "$$\n",
    "\n",
    "由于$\\sum_{a \\in \\cal A(s)} \\pi(a|s) = 1$，因此：\n",
    "\n",
    "$$\n",
    "\\sum_{a \\in \\cal A(s)} \\pi(a|s) q(s, a) \\leq \\sum_{a \\in \\cal A(s)} \\pi(a|s) \\max_{a \\in \\cal A(s)} q(s, a) = \\max_{a \\in \\cal A(s)} q(s, a)\n",
    "$$\n",
    "\n",
    "当\n",
    "$$\n",
    "\\pi(a \\mid s) = \n",
    "\\begin{cases} \n",
    "1, & a = a^* \\\\\n",
    "0, & a \\neq a^* \n",
    "\\end{cases}\n",
    "$$\n",
    "时，等式成立，最优动作为：$a^*=\\arg \\max_{a \\in \\cal A} q(s, a)$。\n",
    "\n",
    "\n",
    "**总的来说，最优策略$\\pi(s)$是选择动作价值$q(s,a)$最大的动作。**"
   ]
  },
  {
   "cell_type": "markdown",
   "metadata": {},
   "source": [
    "### Matrix-Vector form of the Bellman Optimality Equation\n",
    "Bellman Optimality Equation可以写成矩阵-向量形式：\n",
    "$$\n",
    "v = \\max_{\\pi \\in \\prod}(r_{\\pi} + \\gamma P_{\\pi} v) \\ \\ \\ \\ *\n",
    "$$\n",
    "\n",
    "其中:\n",
    "$$v \\in \\mathbb{R}^{|\\cal S|}$$\n",
    "$$\n",
    "[r_{\\pi}]_s \\overset{\\cdot}=\\sum_{a \\in \\cal A(s)} \\pi(a|s) \\sum_{r \\in R(s, a)} p(r | s, a) r\n",
    "$$\n",
    "\n",
    "$$\n",
    "[P_{\\pi}]_{s, s'} = p(s'|s) \\overset{\\cdot}=\\sum_{a \\in \\cal A(s)} \\pi(a|s) p(s' | s, a)\n",
    "$$\n",
    "\n",
    "将(*)式写成关于未知变量$v$的函数：\n",
    "$$\n",
    "v = f(v) \\overset{\\cdot}= \\max_{\\pi \\in \\prod}(r_{\\pi} + \\gamma P_{\\pi} v)\n",
    "$$\n",
    "\n",
    "因此可以使用压缩映射定理（Banach固定点定理）证明存在且唯一$v^*  \\in \\mathbb{R}^{|\\cal S|}$，使得 $f(v^*) = v^*$，$v^*$对应的策略$\\pi^*$是最优策略。"
   ]
  },
  {
   "cell_type": "markdown",
   "metadata": {},
   "source": [
    "### Solving an Optimal Policy from the Bellman Optimality Equation\n",
    "根据压缩映射定理，从任意初始从任意初始值$v_0 \\in \\mathbb{R}^{|\\cal S|}$开始，使用状态价值迭代\n",
    "$$\n",
    "v_{k+1} = f(v_k) = \\max_{\\pi \\in \\prod}(r_{\\pi} + \\gamma P_{\\pi} v_k), \\ \\ \\ k=0,1,2,...\n",
    "$$\n",
    "求解最优状态价值$v^*$（存在且唯一）满足：\n",
    "$$\n",
    "v^* = f(v^*) = \\max_{\\pi \\in \\prod}(r_{\\pi} + \\gamma P_{\\pi} v^*)\n",
    "$$\n",
    "\n",
    "一旦我们得到最优状态价值，就可以得到最优策略$\\pi^*$：\n",
    "$$\n",
    "\\pi^* = \\arg \\max_{\\pi \\in \\prod}(r_{\\pi} + \\gamma P_{\\pi} v^*)\n",
    "$$"
   ]
  },
  {
   "cell_type": "markdown",
   "metadata": {},
   "source": [
    "### Example"
   ]
  },
  {
   "cell_type": "markdown",
   "metadata": {},
   "source": [
    "<center>\n",
    "<img src=\"../Images/factors-that-infuence-optimal-policies.png\" alt=\"Factors that Infuence Optimal Policies\">\n",
    "</center>"
   ]
  },
  {
   "cell_type": "code",
   "execution_count": 1,
   "metadata": {},
   "outputs": [],
   "source": [
    "import sys\n",
    "import time\n",
    "sys.path.append('..')"
   ]
  },
  {
   "cell_type": "code",
   "execution_count": 2,
   "metadata": {},
   "outputs": [],
   "source": [
    "import numpy as np\n",
    "\n",
    "from Utils.gridworld.examples.arguments import args\n",
    "from Utils.gridworld.src.grid_world import GridWorld"
   ]
  },
  {
   "cell_type": "code",
   "execution_count": 3,
   "metadata": {},
   "outputs": [
    {
     "data": {
      "image/png": "[encoded data removed]",
      "text/plain": [
       "<Figure size 640x480 with 1 Axes>"
      ]
     },
     "metadata": {},
     "output_type": "display_data"
    },
    {
     "data": {
      "text/plain": [
       "<Figure size 640x480 with 0 Axes>"
      ]
     },
     "metadata": {},
     "output_type": "display_data"
    }
   ],
   "source": [
    "env = GridWorld()\n",
    "state = env.reset()\n",
    "env.render()\n",
    "\n",
    "policy_matrix=np.random.rand(env.num_states, len(env.action_space))\n",
    "policy_matrix /= policy_matrix.sum(axis=1)[:, np.newaxis]\n",
    "\n",
    "env.render(animation_interval=2)\n",
    "env.add_policy(policy_matrix)\n",
    "time.sleep(2)"
   ]
  }
 ],
 "metadata": {
  "kernelspec": {
   "display_name": "rl",
   "language": "python",
   "name": "python3"
  },
  "language_info": {
   "codemirror_mode": {
    "name": "ipython",
    "version": 3
   },
   "file_extension": ".py",
   "mimetype": "text/x-python",
   "name": "python",
   "nbconvert_exporter": "python",
   "pygments_lexer": "ipython3",
   "version": "3.11.11"
  }
 },
 "nbformat": 4,
 "nbformat_minor": 2
}
